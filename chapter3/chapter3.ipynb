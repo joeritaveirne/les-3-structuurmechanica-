{
  "cells": [
    {
      "cell_type": "markdown",
      "metadata": {
        "id": "g-_uqyLSnyLg"
      },
      "source": [
        "# Chapter 3: Structural Mechanics"
      ]
    },
    {
      "cell_type": "code",
      "execution_count": 135,
      "metadata": {
        "id": "r_GmjJx4nyLl"
      },
      "outputs": [],
      "source": [
        "import numpy as np\n",
        "import matplotlib.pyplot as plt\n",
        "import math\n",
        "import scipy.optimize as opt"
      ]
    },
    {
      "cell_type": "markdown",
      "metadata": {
        "id": "iL1GepCknyLo"
      },
      "source": [
        "## 3.1 Beam on two supports with point load"
      ]
    },
    {
      "cell_type": "markdown",
      "metadata": {
        "id": "mlqGG17pnyLo"
      },
      "source": [
        "### Calculating and plotting the moment line"
      ]
    },
    {
      "cell_type": "code",
      "execution_count": 136,
      "metadata": {
        "id": "xZ_4elOdnyLp"
      },
      "outputs": [],
      "source": [
        "def computeBendingMoment1(x,P,a,b):\n",
        "    \"\"\"computes the moment\n",
        "\n",
        "    Args:\n",
        "        x (_type_): Position on the beam\n",
        "        P (_type_): Point load\n",
        "        a (_type_): Distance from left support to the load\n",
        "        b (_type_): Distance from the load to the right support\n",
        "\n",
        "    Returns:\n",
        "        float: Bending moment at position x\n",
        "    \"\"\"\n",
        "\n",
        "    l = a + b\n",
        "    # Calculates the bending moment at a single position x\n",
        "    # for a simply supported beam loaded by a point load P\n",
        "    # in position x = a for a beam with total length = a + b\n",
        "    if x < a:\n",
        "        y = (P * b / l) * x\n",
        "    else:\n",
        "        y = (P * b / l) * x - P * (x - a)\n",
        "\n",
        "    return y"
      ]
    },
    {
      "cell_type": "code",
      "execution_count": 137,
      "metadata": {
        "colab": {
          "base_uri": "https://localhost:8080/"
        },
        "id": "nwJxEA95nyLq",
        "outputId": "a6aa3b1b-2616-48ef-eb06-dfe32d9b7f13"
      },
      "outputs": [
        {
          "output_type": "stream",
          "name": "stdout",
          "text": [
            "The bending moment at x = 1 m is 4.0 kNm\n",
            "The bending moment at x = 4 m is 6.0 kNm\n"
          ]
        }
      ],
      "source": [
        "# Evaluate the function\n",
        "P = 10  # kN (1000 N)\n",
        "a = 3  # m\n",
        "b = 2  # m\n",
        "x = 1  # m\n",
        "\n",
        "moment = computeBendingMoment1(x, P, a, b)\n",
        "print(f\"The bending moment at x = {x} m is {moment} kNm\")\n",
        "\n",
        "x = 4  # m\n",
        "moment = computeBendingMoment1(x, P , a, b)\n",
        "print(f\"The bending moment at x = {x} m is {moment} kNm\")"
      ]
    },
    {
      "cell_type": "markdown",
      "metadata": {
        "id": "gEyEeXgvnyLq"
      },
      "source": [
        "### Calculating and plotting the moment line via a vector"
      ]
    },
    {
      "cell_type": "code",
      "execution_count": 138,
      "metadata": {
        "id": "6AMWuXkcnyLr"
      },
      "outputs": [],
      "source": [
        "import numpy as np\n",
        "import matplotlib.pyplot as plt\n",
        "def computeBendingMomentN(x: np.array,P,a,b):\n",
        "    # y = M(x,P,a,b)\n",
        "    # Calculates the bending moment at positions defined by the x-array\n",
        "    # for a simply supported beam loaded by a point load P\n",
        "    # in position x = a for a beam with total length = a + b\n",
        "\n",
        "    l = a + b\n",
        "    y = np.zeros_like(x, dtype=float)\n",
        "    y[x < a] = (P * b / l) * x[x < a]\n",
        "    y[x >= a] = (P * b / l) * x[x >= a] - P * (x[x >= a] - a)\n",
        "\n",
        "    return y"
      ]
    },
    {
      "cell_type": "markdown",
      "metadata": {
        "id": "9b34f8a4"
      },
      "source": [
        "The `computeBendingMomentN` function takes a numpy array `x` of positions, the point load `P`, and the distances `a` and `b`. It returns a numpy array `y` containing the bending moments at the corresponding positions. The function calculates the bending moment based on the position relative to the load.\n",
        "\n",
        "You can experiment with the step size of the input `x` by changing the third argument in `np.linspace(0, l, 100)`. A larger number will create more points, resulting in a smoother plot, while a smaller number will create fewer points."
      ]
    },
    {
      "cell_type": "code",
      "execution_count": 139,
      "metadata": {
        "colab": {
          "base_uri": "https://localhost:8080/",
          "height": 472
        },
        "id": "HLcrtQDbnyLr",
        "outputId": "3eba6ca7-eb58-48f2-c91b-d89ea5af795e"
      },
      "outputs": [
        {
          "output_type": "display_data",
          "data": {
            "text/plain": [
              "<Figure size 640x480 with 1 Axes>"
            ],
            "image/png": "[encoded data removed]"
          },
          "metadata": {}
        }
      ],
      "source": [
        "import numpy as np\n",
        "import matplotlib.pyplot as plt\n",
        "\n",
        "# Evaluate the function\n",
        "P = 10  # kN (\n",
        "a = 3  # m\n",
        "b = 2  # m\n",
        "l = a + b\n",
        "x_values = np.linspace(0, l, 200)  # Create a vector of x positions\n",
        "\n",
        "moment_values = computeBendingMomentN(x_values, P , a, b)\n",
        "\n",
        "# Plot the bending moment diagram\n",
        "plt.figure()\n",
        "plt.plot(x_values, moment_values, color='red',linewidth = 2) # Change line color to red\n",
        "\n",
        "# Add vertical red solid lines from y=0 to the curve\n",
        "# You can choose either 0.3 or 0.5 for the spacing\n",
        "spacing = 0.2\n",
        "line_x_positions = np.arange(0, l + spacing, spacing)\n",
        "# Find the indices in x_values closest to the line_x_positions\n",
        "indices = np.searchsorted(x_values, line_x_positions)\n",
        "# Ensure indices are within bounds\n",
        "indices = np.clip(indices, 0, len(x_values) - 1)\n",
        "line_y_values = moment_values[indices]\n",
        "\n",
        "plt.vlines(line_x_positions, 0, line_y_values, color='red')\n",
        "\n",
        "# Fill the area under the curve with transparent red\n",
        "plt.fill_between(x_values, moment_values, color='red', alpha=0.3)\n",
        "\n",
        "# Find and display maximum and minimum values\n",
        "max_moment = np.max(moment_values)\n",
        "min_moment = np.min(moment_values)\n",
        "max_index = np.argmax(moment_values)\n",
        "min_index = np.argmin(moment_values)\n",
        "max_x = x_values[max_index]\n",
        "min_x = x_values[min_index]\n",
        "\n",
        "plt.plot(max_x, max_moment, 'go') # Mark maximum with a green circle\n",
        "plt.text(max_x, max_moment, f'Max: {max_moment:.2f} kNm', ha='left', va='bottom')\n",
        "\n",
        "plt.plot(min_x, min_moment, 'bo') # Mark minimum with a blue circle\n",
        "plt.text(min_x, min_moment, f'Min: {min_moment:.2f} kNm', ha='left', va='top')\n",
        "\n",
        "\n",
        "plt.xlabel(\"Position x (m)\")\n",
        "plt.ylabel(\"Bending Moment (kNm)\")\n",
        "plt.title(\"Bending Moment Diagram\")\n",
        "\n",
        "plt.show()"
      ]
    },
    {
      "cell_type": "markdown",
      "metadata": {
        "id": "D2dSVvu1nyLs"
      },
      "source": [
        "### Calculating and plotting the deflection"
      ]
    },
    {
      "cell_type": "code",
      "execution_count": 140,
      "metadata": {
        "id": "02f6eIYJnyLs"
      },
      "outputs": [],
      "source": [
        "import numpy as np\n",
        "\n",
        "def computeDeflectionN(x : np.array,P,a,b):\n",
        "    # y = u_z(x,P,a,b)\n",
        "    # Calculates the vertical displacement EI u_z\n",
        "    # at positions defined by the x-array\n",
        "    # for a simply supported beam loaded by a point load P\n",
        "    # in position x = a for a beam with total length = a + b\n",
        "    # setting EI = 1\n",
        "\n",
        "    l = a + b\n",
        "    EIuz = np.zeros_like(x, dtype=float)\n",
        "\n",
        "    # Part 1 of the formula: - (P * b / l) * x^3 / 6\n",
        "    EIuz = EIuz - (P * b / l) * (x**3) / 6\n",
        "\n",
        "    # Part 2 of the formula: (P * a * b * (l + b) / (6 * l)) * x\n",
        "    C1 = (P * a * b * (l + b)) / (6 * l)\n",
        "    EIuz = EIuz + C1 * x\n",
        "\n",
        "    # Part 3 of the formula: conditional term\n",
        "    EIuz[x >= a] = EIuz[x >= a] + (P * (x[x >= a] - a)**3) / 6\n",
        "\n",
        "    return EIuz"
      ]
    },
    {
      "cell_type": "markdown",
      "metadata": {
        "id": "14e83d05"
      },
      "source": [
        "The `computeDeflectionN` function calculates the vertical displacement multiplied by EI (`EIuz`) for a simply supported beam with a point load. It takes a numpy array of positions `x`, the point load `P`, and the distances `a` and `b`. The output is a numpy array containing the corresponding `EIuz` values.\n",
        "\n",
        "You can experiment with the step size of the input `x` by changing the third argument in `np.linspace(0, l, 100)`. A larger number will create more points, resulting in a smoother plot, while a smaller number will create fewer points."
      ]
    },
    {
      "cell_type": "code",
      "metadata": {
        "colab": {
          "base_uri": "https://localhost:8080/",
          "height": 472
        },
        "id": "05964d16",
        "outputId": "07c0d74a-6529-4889-b8d7-e0199274011f"
      },
      "source": [
        "import numpy as np\n",
        "import matplotlib.pyplot as plt\n",
        "\n",
        "# Evaluate the function\n",
        "P = 10000  # N (as in the formula derivation)\n",
        "a = 3  # m\n",
        "b = 2  # m\n",
        "l = a + b\n",
        "x_values = np.linspace(0, l, 100)  # Create a vector of x positions\n",
        "\n",
        "deflection_values = computeDeflectionN(x_values, P, a, b)\n",
        "\n",
        "# Plot the deflection diagram\n",
        "plt.figure()\n",
        "plt.plot(x_values, deflection_values)\n",
        "plt.xlabel(\"Position x (m)\")\n",
        "plt.ylabel(\"EI * Deflection (Nm^3)\")\n",
        "plt.title(\"Deflection Diagram (EI * u_z)\")\n",
        "\n",
        "plt.show()"
      ],
      "execution_count": 141,
      "outputs": [
        {
          "output_type": "display_data",
          "data": {
            "text/plain": [
              "<Figure size 640x480 with 1 Axes>"
            ],
            "image/png": "[encoded data removed]"
          },
          "metadata": {}
        }
      ]
    },
    {
      "cell_type": "code",
      "execution_count": 142,
      "metadata": {
        "id": "2Ig70cGXnyLs"
      },
      "outputs": [],
      "source": [
        "# Evaluate the function"
      ]
    },
    {
      "cell_type": "markdown",
      "metadata": {
        "id": "eRgQyLSqnyLt"
      },
      "source": [
        "### Searching maxima"
      ]
    },
    {
      "cell_type": "code",
      "execution_count": 151,
      "metadata": {
        "colab": {
          "base_uri": "https://localhost:8080/"
        },
        "id": "CSo_PTfAnyLt",
        "outputId": "fd481944-534a-461b-cc9f-ef4bde3f6260"
      },
      "outputs": [
        {
          "output_type": "stream",
          "name": "stdout",
          "text": [
            "Maximum deflection (EI * u_z): 24691.67 Nm^3 at x = 1.57 m\n",
            "Optimization terminated successfully.\n",
            "         Current function value: -24693.678900\n",
            "         Iterations: 14\n",
            "         Function evaluations: 28\n",
            "Maximum deflection (EI * u_z) found by fmin: 24693.68 Nm^3 at x = 2.65 m\n",
            "Theoretical maximum deflection (EI * u_z): 24693.68 Nm^3 at x = 2.65 m\n"
          ]
        }
      ],
      "source": [
        "# Use this function:\n",
        "\n",
        "max_deflection = np.max(deflection_values)\n",
        "\n",
        "# Find the index of the maximum deflection value\n",
        "max_deflection_index = np.argmax(deflection_values)\n",
        "\n",
        "# Get the x-position corresponding to the maximum deflection\n",
        "max_deflection_x = x_values[max_deflection_index]\n",
        "\n",
        "# Print the maximum deflection and its position\n",
        "print(f\"Maximum deflection (EI * u_z): {max_deflection:.2f} Nm^3 at x = {max_deflection_x:.2f} m\")\n",
        "\n",
        "\n",
        "\n",
        "# scipy.optimize.fmin(func=\"naam_van_de_functie\", x0 = \"startwaarde\")\n",
        "\n",
        "def negative_deflection(x_pos):\n",
        "  \"\"\"Returns the negative of the deflection at a given position.\"\"\"\n",
        "  return -computeDeflectionN(np.array([x_pos]), P, a, b)[0]\n",
        "\n",
        "# Use fmin to find the minimum of the negative_deflection function (which is the maximum of the deflection)\n",
        "max_deflection_x_fmin = opt.fmin(negative_deflection, a)\n",
        "\n",
        "# Calculate the maximum deflection value at the position found by fmin\n",
        "max_deflection_fmin = computeDeflectionN(max_deflection_x_fmin, P, a, b)[0]\n",
        "\n",
        "# Print the results\n",
        "print(f\"Maximum deflection (EI * u_z) found by fmin: {max_deflection_fmin:.2f} Nm^3 at x = {max_deflection_x_fmin[0]:.2f} m\")\n",
        "\n",
        "\n",
        "\n",
        "#use function of EIuz and integrate to find max.\n",
        "\n",
        "# Calculate the theoretical position of maximum deflection\n",
        "x_theoretical = np.sqrt((l**2 - b**2) / 3)\n",
        "\n",
        "# Calculate the theoretical maximum deflection value at the theoretical position\n",
        "deflection_theoretical = computeDeflectionN(np.array([x_theoretical]), P, a, b)[0]\n",
        "\n",
        "# Print the theoretical maximum deflection and its position\n",
        "print(f\"Theoretical maximum deflection (EI * u_z): {deflection_theoretical:.2f} Nm^3 at x = {x_theoretical:.2f} m\")"
      ]
    },
    {
      "cell_type": "markdown",
      "metadata": {
        "id": "_giBQidNnyLt"
      },
      "source": [
        "## 3.2 Continuous bar with different loads"
      ]
    },
    {
      "cell_type": "markdown",
      "metadata": {
        "id": "UKIuUerEnyLt"
      },
      "source": [
        "### Function for general load"
      ]
    },
    {
      "cell_type": "code",
      "execution_count": 152,
      "metadata": {
        "id": "LAYqu71UnyLu"
      },
      "outputs": [],
      "source": [
        "import numpy as np\n",
        "\n",
        "def computeBendingMomentGeneral(x, L):\n",
        "    # y = MMM(x,L)\n",
        "    # Calculates the bending moment at positions defined by the x-array\n",
        "    # for a continuous with loading characteristics specified in L equal to:\n",
        "    # [load_type1 value1 a1;\n",
        "    #  load_type2 value2 a2;\n",
        "    #      ....   ]\n",
        "    # where load_type is a string ('P', 'M', or 'q')\n",
        "\n",
        "    M = np.zeros_like(x, dtype=float)\n",
        "\n",
        "    for row in L:\n",
        "        load_type, value, a = row\n",
        "\n",
        "        if load_type == 'P':     # Puntlast (neerwaarts positief)\n",
        "\n",
        "            M += np.where(x > a, -value * (x - a), 0)\n",
        "\n",
        "        elif load_type == 'M':   # Puntmoment (positief met de klok mee boven balk)\n",
        "            # Moment contribution is +M for x > a\n",
        "            M += np.where(x > a, value, 0)\n",
        "        elif load_type == 'q':   # Verdeelde last (positief omlaag)\n",
        "            # Moment contribution is -q * <x - a>^2 / 2\n",
        "            M += np.where(x > a, -value * (x - a)**2 / 2, 0)\n",
        "\n",
        "    return M"
      ]
    },
    {
      "cell_type": "markdown",
      "metadata": {
        "id": "04a464f3"
      },
      "source": [
        "The `computeBendingMomentGeneral` function calculates the bending moment along a beam for a general loading condition defined by the input matrix `L`. The matrix `L` should have rows representing individual loads and columns for the position of the load (`x`), point load (`P`), moment (`M`), and distributed load (`q`). The function iterates through each load in the matrix and adds its contribution to the total bending moment at each position in the input `x` vector. The contributions are calculated based on the provided basis functions, considering the sign conventions."
      ]
    },
    {
      "cell_type": "code",
      "metadata": {
        "colab": {
          "base_uri": "https://localhost:8080/",
          "height": 472
        },
        "id": "17c87fb9",
        "outputId": "414edb4d-fcbe-40bb-d2d7-ce88de58010f"
      },
      "source": [
        "import numpy as np\n",
        "import matplotlib.pyplot as plt\n",
        "\n",
        "# Define the load matrix L for the simple point load case (Figure 3.1)\n",
        "# P = 10 kN, a = 3 m, b = 2 m, l = a + b = 5 m\n",
        "# Reactions: RA = P * b / l = 10 * 2 / 5 = 4 kN\n",
        "#            RB = P * a / l = 10 * 3 / 5 = 6 kN\n",
        "P_load = 10 # kN\n",
        "a = 3 # m\n",
        "b = 2 # m\n",
        "l = a + b # m\n",
        "\n",
        "RA = P_load * b / l\n",
        "RB = P_load * a / l\n",
        "\n",
        "# Load matrix L in the format [load_type_string, value, position]\n",
        "L = np.array([\n",
        "    ['P', RA, 0],      # Reaction at A (upward force is negative P)\n",
        "    ['P', -P_load, a], # Point load P (downward force is positive P)\n",
        "    ['P', RB, l]       # Reaction at B (upward force is negative P)\n",
        "], dtype=object) # Use dtype=object to allow mixing strings and numbers\n",
        "\n",
        "\n",
        "# Create a vector of x positions\n",
        "x_values = np.linspace(0, l, 100)\n",
        "\n",
        "# Calculate the bending moment using the general function\n",
        "moment_values_general = computeBendingMomentGeneral(x_values, L)\n",
        "\n",
        "# Plot the bending moment diagram with the desired layout\n",
        "plt.figure()\n",
        "plt.plot(x_values, moment_values_general, color='red', linewidth=2) # Red line, thicker\n",
        "\n",
        "# Add vertical red solid lines from y=0 to the curve\n",
        "# You can choose either 0.3 or 0.5 for the spacing\n",
        "spacing = 0.2\n",
        "line_x_positions = np.arange(0, l + spacing, spacing)\n",
        "# Find the indices in x_values closest to the line_x_positions\n",
        "indices = np.searchsorted(x_values, line_x_positions)\n",
        "# Ensure indices are within bounds\n",
        "indices = np.clip(indices, 0, len(x_values) - 1)\n",
        "line_y_values = moment_values_general[indices]\n",
        "\n",
        "plt.vlines(line_x_positions, 0, line_y_values, color='red')\n",
        "\n",
        "# Fill the area under the curve with transparent red\n",
        "plt.fill_between(x_values, moment_values_general, color='red', alpha=0.3)\n",
        "\n",
        "# Find and display maximum and minimum values\n",
        "max_moment = np.max(moment_values_general)\n",
        "min_moment = np.min(moment_values_general)\n",
        "max_index = np.argmax(moment_values_general)\n",
        "min_index = np.argmin(moment_values_general)\n",
        "max_x = x_values[max_index]\n",
        "min_x = x_values[min_index]\n",
        "\n",
        "plt.plot(max_x, max_moment, 'go') # Mark maximum with a green circle\n",
        "plt.text(max_x, max_moment, f'Max: {max_moment:.2f} kNm', ha='left', va='bottom')\n",
        "\n",
        "plt.plot(min_x, min_moment, 'bo') # Mark minimum with a blue circle\n",
        "plt.text(min_x, min_moment, f'Min: {min_moment:.2f} kNm', ha='left', va='top')\n",
        "\n",
        "\n",
        "plt.xlabel(\"Position x (m)\")\n",
        "plt.ylabel(\"Bending Moment (kNm)\")\n",
        "plt.title(\"Bending Moment Diagram (General Load)\")\n",
        "plt.show()"
      ],
      "execution_count": 153,
      "outputs": [
        {
          "output_type": "display_data",
          "data": {
            "text/plain": [
              "<Figure size 640x480 with 1 Axes>"
            ],
            "image/png": "[encoded data removed]"
          },
          "metadata": {}
        }
      ]
    },
    {
      "cell_type": "code",
      "source": [
        "#nieuwe oefening\n"
      ],
      "metadata": {
        "id": "z8qju4GSKEWk"
      },
      "execution_count": 146,
      "outputs": []
    },
    {
      "cell_type": "markdown",
      "metadata": {
        "id": "6a883110"
      },
      "source": [
        "## Bereken reactiekrachten\n",
        "\n",
        "### Subtask:\n",
        "Bereken de onbekende reactiekrachten HA, VA en VB voor de gegeven balk met belastingen en steunpunten.\n"
      ]
    },
    {
      "cell_type": "markdown",
      "metadata": {
        "id": "381f8413"
      },
      "source": [
        "**Reasoning**:\n",
        "I need to set up and solve the equilibrium equations to find the unknown reaction forces HA, VA, and VB. I will use the given loads and support conditions to formulate the equations for the sum of horizontal forces, sum of vertical forces, and sum of moments around a point. I will use Python to solve these equations.\n",
        "\n"
      ]
    },
    {
      "cell_type": "code",
      "metadata": {
        "colab": {
          "base_uri": "https://localhost:8080/"
        },
        "id": "3a3a8c42",
        "outputId": "8960722f-437c-4bf9-979a-d394b8086eec"
      },
      "source": [
        "from sympy import symbols, solve\n",
        "\n",
        "# Define symbolic variables for the unknown reaction forces\n",
        "HA, VA, VB = symbols('HA VA VB')\n",
        "\n",
        "# Define the known loads and their positions\n",
        "P1 = 4  # kN point load at x = 1m\n",
        "M1 = 10 # kNm moment at x = 2m (counter-clockwise, so positive in moment equation)\n",
        "q1 = 2  # kN/m distributed load from x = 4m to x = 6m\n",
        "T1 = 2  # kN tensile force at x = 6m (horizontal)\n",
        "\n",
        "# Beam length\n",
        "L_beam = 6 # m\n",
        "\n",
        "# Support positions\n",
        "x_hinge = 0 # m (Hinge support at A)\n",
        "x_roller = 3 # m (Roller support at B)\n",
        "\n",
        "# Equilibrium equations:\n",
        "# 1. Sum of horizontal forces = 0\n",
        "# HA (to the right is positive) + T1 (to the right is positive) = 0\n",
        "eq_horizontal = HA + T1\n",
        "\n",
        "# 2. Sum of vertical forces = 0\n",
        "# VA (upward is positive) + VB (upward is positive) - P1 (downward is positive) - distributed load (downward is positive) = 0\n",
        "# The total vertical force from the distributed load is q1 * length of distributed load = 2 kN/m * (6m - 4m) = 4 kN\n",
        "eq_vertical = VA + VB - P1 - q1 * (6 - 4)\n",
        "\n",
        "# 3. Sum of moments around point A (hinge at x=0) = 0\n",
        "# Assume counter-clockwise moments are positive.\n",
        "# VA and HA do not create a moment around A as they act at A.\n",
        "# - P1 * 1m (clockwise moment from P1)\n",
        "# + M1 (counter-clockwise moment)\n",
        "# - distributed load moment: The resultant of the distributed load is q1 * (6-4) = 4 kN, acting at the center of the distributed load, which is at (4m + 6m) / 2 = 5m from A. The moment is - (q1 * (6-4)) * 5m\n",
        "# + VB * 3m (counter-clockwise moment from VB)\n",
        "# T1 acts horizontally at x=6m, creating no vertical moment around A.\n",
        "eq_moment_A = -P1 * 1 + M1 - (q1 * (6 - 4)) * 5 + VB * 3\n",
        "\n",
        "# Solve the system of equations\n",
        "solution = solve((eq_horizontal, eq_vertical, eq_moment_A), (HA, VA, VB))\n",
        "\n",
        "# Extract the values of the reaction forces\n",
        "HA_val = solution[HA]\n",
        "VA_val = solution[VA]\n",
        "VB_val = solution[VB]\n",
        "\n",
        "# Print the results\n",
        "print(f\"Calculated reaction forces:\")\n",
        "print(f\"HA = {HA_val:.2f} kN\")\n",
        "print(f\"VA = {VA_val:.2f} kN\")\n",
        "print(f\"VB = {VB_val:.2f} kN\")\n",
        "\n",
        "# Verification (Optional but good practice)\n",
        "# Check if the calculated values satisfy the equilibrium equations\n",
        "check_horizontal = HA_val + T1\n",
        "check_vertical = VA_val + VB_val - P1 - q1 * (6 - 4)\n",
        "check_moment_A = -P1 * 1 + M1 - (q1 * (6 - 4)) * 5 + VB_val * 3\n",
        "\n",
        "print(\"\\nVerification of equilibrium equations:\")\n",
        "print(f\"Sum of horizontal forces: {check_horizontal:.6f}\")\n",
        "print(f\"Sum of vertical forces: {check_vertical:.6f}\")\n",
        "print(f\"Sum of moments around A: {check_moment_A:.6f}\")"
      ],
      "execution_count": 154,
      "outputs": [
        {
          "output_type": "stream",
          "name": "stdout",
          "text": [
            "Calculated reaction forces:\n",
            "HA = -2.00 kN\n",
            "VA = 3.33 kN\n",
            "VB = 4.67 kN\n",
            "\n",
            "Verification of equilibrium equations:\n",
            "Sum of horizontal forces: 0.000000\n",
            "Sum of vertical forces: 0.000000\n",
            "Sum of moments around A: 0.000000\n"
          ]
        }
      ]
    },
    {
      "cell_type": "markdown",
      "metadata": {
        "id": "8e92509e"
      },
      "source": [
        "## Stel de belastingmatrix l op\n",
        "\n",
        "### Subtask:\n",
        "Creëer de matrix L met alle relevante belastingen, inclusief de berekende reactiekrachten, in het formaat dat wordt verwacht door de `computeBendingMomentGeneral` functie (`[load_type_string, value, position]`). Houd rekening met de positie van de belastingen en de steunpunten. De trekkracht aan het einde van de balk is een axiale kracht en heeft geen invloed op het buigend moment; deze wordt dus niet opgenomen in de L-matrix voor het buigend moment.\n"
      ]
    },
    {
      "cell_type": "markdown",
      "metadata": {
        "id": "ff549db1"
      },
      "source": [
        "**Reasoning**:\n",
        "Create the load matrix L including the reaction forces and the applied loads, excluding axial forces, in the format required by the computeBendingMomentGeneral function.\n",
        "\n"
      ]
    },
    {
      "cell_type": "code",
      "metadata": {
        "colab": {
          "base_uri": "https://localhost:8080/"
        },
        "id": "4ce791bc",
        "outputId": "6f49d161-3e64-4092-f73e-d746f80ce3bc"
      },
      "source": [
        "# Ensure that VA and VB (calculated reaction forces) are available from a previous cell\n",
        "# Also ensure P1, M1, q1, and L_beam are defined.\n",
        "\n",
        "# 1. Define the length of the beam\n",
        "# L_beam is already defined in the previous step where reaction forces were calculated.\n",
        "\n",
        "# 2. Create a numpy array L with dtype object\n",
        "# The format is [load_type_string, value, position]\n",
        "# Upward forces are negative in the context of computeBendingMomentGeneral\n",
        "# Clockwise moments are positive in the context of computeBendingMomentGeneral\n",
        "# Downward distributed loads are positive in the context of computeBendingMomentGeneral\n",
        "# Use the numerical values of the reaction forces (VA_val, VB_val)\n",
        "L = np.array([\n",
        "    ['P', -VA_val, 0],      # Vertical Reaction at A (upward is negative)\n",
        "    ['P', P1, 1],       # Point load P1 (downward is positive)\n",
        "    ['M', -M1, 2],      # Moment M1 (counter-clockwise is positive in equilibrium, but should be negative for the basis function)\n",
        "    ['P', -VB_val, 3],      # Vertical Reaction at B (upward is negative)\n",
        "    ['q', q1, 4],       # Distributed load q1 starting at x = 4m (downward is positive)\n",
        "    # Note: The distributed load in computeBendingMomentGeneral is handled as if it starts at 'a'\n",
        "    # and applies to x > a. For a distributed load from 4m to 6m, we model it as a distributed\n",
        "    # load starting at 4m. However, the function currently applies it from 'a' to the end of the beam.\n",
        "    # A more accurate representation for a distributed load over a specific segment would require\n",
        "    # a modification of the computeBendingMomentGeneral function or a different approach.\n",
        "    # Based on the current function's behavior, we'll include 'q', q1, 4.\n",
        "    # The effect of the distributed load ending at 6m is implicitly handled by the equilibrium,\n",
        "    # but the bending moment calculation using this function might not be perfectly accurate for\n",
        "    # a distributed load that stops before the end of the beam without further adjustments.\n",
        "    # For this subtask, we will follow the instruction to include the distributed load starting at 4m.\n",
        "], dtype=object)\n",
        "\n",
        "# 3. Print the resulting matrix L (optional, for verification)\n",
        "print(\"Load matrix L:\")\n",
        "print(L)"
      ],
      "execution_count": 155,
      "outputs": [
        {
          "output_type": "stream",
          "name": "stdout",
          "text": [
            "Load matrix L:\n",
            "[['P' -10/3 0]\n",
            " ['P' 4 1]\n",
            " ['M' -10 2]\n",
            " ['P' -14/3 3]\n",
            " ['q' 2 4]]\n"
          ]
        }
      ]
    },
    {
      "cell_type": "markdown",
      "metadata": {
        "id": "cd265fa3"
      },
      "source": [
        "## Maak een vector x\n",
        "\n",
        "### Subtask:\n",
        "Genereer een numpy array `x` met posities over de gehele lengte van de balk met een geschikte stapgrootte.\n"
      ]
    },
    {
      "cell_type": "markdown",
      "metadata": {
        "id": "873c7dda"
      },
      "source": [
        "**Reasoning**:\n",
        "Generate a numpy array `x_values` covering the length of the beam with a sufficient number of points for plotting.\n",
        "\n"
      ]
    },
    {
      "cell_type": "code",
      "metadata": {
        "id": "d31a612e"
      },
      "source": [
        "# Determine the length of the beam from the variable L_beam.\n",
        "# L_beam is already defined in the previous steps.\n",
        "\n",
        "# Use np.linspace() to create an array named x_values.\n",
        "# The array should start at 0, end at L_beam, and contain a sufficient number of points (e.g., 200 or more).\n",
        "x_values = np.linspace(0, L_beam, 200)\n"
      ],
      "execution_count": 156,
      "outputs": []
    },
    {
      "cell_type": "markdown",
      "metadata": {
        "id": "fe418479"
      },
      "source": [
        "## Bereken buigend moment\n",
        "\n",
        "### Subtask:\n",
        "Gebruik de `computeBendingMomentGeneral` functie met de vector `x` en de matrix `L` om het buigend moment op alle posities te berekenen."
      ]
    },
    {
      "cell_type": "markdown",
      "metadata": {
        "id": "925c9252"
      },
      "source": [
        "**Reasoning**:\n",
        "Call the `computeBendingMomentGeneral` function with the `x_values` and `L` arrays to calculate the bending moment values and store the result. Then print a few values to verify."
      ]
    },
    {
      "cell_type": "code",
      "metadata": {
        "colab": {
          "base_uri": "https://localhost:8080/"
        },
        "id": "c8611836",
        "outputId": "c4d09300-7e59-4002-bbe5-88e19d664b64"
      },
      "source": [
        "# Call the computeBendingMomentGeneral function\n",
        "# Ensure x_values and L are available from previous cells\n",
        "moment_values_calculated = computeBendingMomentGeneral(x_values, L)\n",
        "\n",
        "# Print the first few calculated moment values for verification (optional)\n",
        "print(\"First 10 calculated bending moment values:\")\n",
        "print(moment_values_calculated[:10])\n",
        "\n",
        "# Print the last few calculated moment values for verification (optional)\n",
        "print(\"\\nLast 10 calculated bending moment values:\")\n",
        "print(moment_values_calculated[-10:])"
      ],
      "execution_count": 157,
      "outputs": [
        {
          "output_type": "stream",
          "name": "stdout",
          "text": [
            "First 10 calculated bending moment values:\n",
            "[0.         0.10050251 0.20100503 0.30150754 0.40201005 0.50251256\n",
            " 0.60301508 0.70351759 0.8040201  0.90452261]\n",
            "\n",
            "Last 10 calculated bending moment values:\n",
            "[-0.0736345  -0.05818035 -0.04454433 -0.03272645 -0.0227267  -0.01454509\n",
            " -0.00818161 -0.00363627 -0.00090907  0.        ]\n"
          ]
        }
      ]
    },
    {
      "cell_type": "markdown",
      "metadata": {
        "id": "6461af8c"
      },
      "source": [
        "## Plot buigend moment\n",
        "\n",
        "### Subtask:\n",
        "Plot het berekende buigende moment tegen de posities `x`. Zorg voor duidelijke labels en een titel.\n"
      ]
    },
    {
      "cell_type": "markdown",
      "metadata": {
        "id": "9e78c9f5"
      },
      "source": [
        "**Reasoning**:\n",
        "Plot the calculated bending moment values against the positions, add labels, a title, and a grid as requested in the instructions.\n",
        "\n"
      ]
    },
    {
      "cell_type": "code",
      "metadata": {
        "colab": {
          "base_uri": "https://localhost:8080/",
          "height": 472
        },
        "id": "724f2a72",
        "outputId": "f1496733-668b-4638-80b2-55e5459a385e"
      },
      "source": [
        "import matplotlib.pyplot as plt\n",
        "import numpy as np # Import numpy for array operations\n",
        "\n",
        "# Ensure x_values and moment_values_calculated are available from previous cells\n",
        "# Also ensure L_beam is defined for the total length\n",
        "\n",
        "plt.figure()\n",
        "plt.plot(x_values, moment_values_calculated, color='red', linewidth=2) # Red line, thicker\n",
        "\n",
        "# Add vertical red solid lines from y=0 to the curve\n",
        "# You can choose either 0.3 or 0.5 for the spacing\n",
        "spacing = 0.2 # You can adjust this spacing\n",
        "line_x_positions = np.arange(0, L_beam + spacing, spacing) # Use L_beam for the total length\n",
        "# Find the indices in x_values closest to the line_x_positions\n",
        "indices = np.searchsorted(x_values, line_x_positions)\n",
        "# Ensure indices are within bounds\n",
        "indices = np.clip(indices, 0, len(x_values) - 1)\n",
        "line_y_values = moment_values_calculated[indices]\n",
        "\n",
        "plt.vlines(line_x_positions, 0, line_y_values, color='red')\n",
        "\n",
        "# Fill the area under the curve with transparent red\n",
        "plt.fill_between(x_values, moment_values_calculated, color='red', alpha=0.3)\n",
        "\n",
        "# Find and display maximum and minimum values\n",
        "max_moment = np.max(moment_values_calculated)\n",
        "min_moment = np.min(moment_values_calculated)\n",
        "max_index = np.argmax(moment_values_calculated)\n",
        "min_index = np.argmin(moment_values_calculated)\n",
        "max_x = x_values[max_index]\n",
        "min_x = x_values[min_index]\n",
        "\n",
        "plt.plot(max_x, max_moment, 'go') # Mark maximum with a green circle\n",
        "plt.text(max_x, max_moment, f'Max: {max_moment:.2f} kNm', ha='left', va='bottom')\n",
        "\n",
        "plt.plot(min_x, min_moment, 'bo') # Mark minimum with a blue circle\n",
        "plt.text(min_x, min_moment, f'Min: {min_moment:.2f} kNm', ha='left', va='top')\n",
        "\n",
        "# Add markers and labels at each meter mark\n",
        "meter_marks_x = np.arange(1, int(L_beam) + 1) # Positions at every meter (1, 2, ..., L_beam)\n",
        "# Find the indices in x_values closest to the meter_marks_x\n",
        "meter_indices = np.searchsorted(x_values, meter_marks_x)\n",
        "# Ensure indices are within bounds\n",
        "meter_indices = np.clip(meter_indices, 0, len(x_values) - 1)\n",
        "meter_marks_y = moment_values_calculated[meter_indices]\n",
        "\n",
        "plt.plot(meter_marks_x, meter_marks_y, 'co') # Mark meter marks with a cyan circle\n",
        "\n",
        "# Add text labels for the meter marks\n",
        "for i, x_pos in enumerate(meter_marks_x):\n",
        "    plt.text(x_pos, meter_marks_y[i], f'{meter_marks_y[i]:.2f}', ha='left', va='bottom', fontsize=9)\n",
        "\n",
        "\n",
        "plt.xlabel(\"Position x (m)\")\n",
        "plt.ylabel(\"Bending Moment (kNm)\")\n",
        "plt.title(\"Bending Moment Diagram\")\n",
        "plt.grid(True)\n",
        "plt.show()"
      ],
      "execution_count": 158,
      "outputs": [
        {
          "output_type": "display_data",
          "data": {
            "text/plain": [
              "<Figure size 640x480 with 1 Axes>"
            ],
            "image/png": "[encoded data removed]"
          },
          "metadata": {}
        }
      ]
    },
    {
      "cell_type": "markdown",
      "metadata": {
        "id": "PJX9Q9v-nyLu"
      },
      "source": [
        "## 3.3 Integration constants and boundary conditions"
      ]
    },
    {
      "cell_type": "markdown",
      "metadata": {
        "id": "ax-unrjFnyLu"
      },
      "source": [
        "### Determining boundary conditions and calculating deflection"
      ]
    },
    {
      "cell_type": "code",
      "execution_count": 159,
      "metadata": {
        "id": "PIzEgs-fnyLu"
      },
      "outputs": [],
      "source": [
        "import numpy as np\n",
        "\n",
        "def alpha_C1(x: np.array, L: np.array) -> np.array:\n",
        "    \"\"\"\n",
        "    Calculates the part of EI*alpha(x) that depends on the loading (L),\n",
        "    excluding the C1 term.\n",
        "\n",
        "    Args:\n",
        "        x (np.array): A numpy array of positions along the beam.\n",
        "        L (np.array): A numpy array representing the loading on the beam.\n",
        "                      Format: [[load_type1, value1, position1], ...]\n",
        "                      load_type can be 'P' (point load), 'M' (moment), or 'q' (distributed load).\n",
        "\n",
        "    Returns:\n",
        "        np.array: A numpy array containing the calculated loading-dependent\n",
        "                  part of EI*alpha(x) at each position in x.\n",
        "    \"\"\"\n",
        "    # EI*alpha(x) = Integral(M(x) dx) + C1\n",
        "    # We calculate the Integral(M(x) dx) part here based on basis functions\n",
        "    # M_load(x > a) contributes Integral(M_load(x-a) dx) for x > a\n",
        "\n",
        "    ei_alpha_load = np.zeros_like(x, dtype=float)\n",
        "\n",
        "    for row in L:\n",
        "        load_type, value, a = row\n",
        "\n",
        "        if load_type == 'P':     # Puntlast (neerwaarts positief)\n",
        "            # Integral of moment contribution: Integral(-P * <x - a>^1) dx = -P * <x - a>^2 / 2\n",
        "            ei_alpha_load += np.where(x > a, -value * (x - a)**2 / 2, 0)\n",
        "        elif load_type == 'M':   # Puntmoment (positief met de klok mee boven balk)\n",
        "            # Integral of moment contribution: Integral(+M * <x - a>^0) dx = +M * <x - a>^1\n",
        "            ei_alpha_load += np.where(x > a, value * (x - a), 0)\n",
        "        elif load_type == 'q':   # Verdeelde last (positief omlaag)\n",
        "            # Integral of moment contribution: Integral(-q * <x - a>^2 / 2) dx = -q * <x - a>^3 / 6\n",
        "            ei_alpha_load += np.where(x > a, -value * (x - a)**3 / 6, 0)\n",
        "\n",
        "    return ei_alpha_load"
      ]
    },
    {
      "cell_type": "code",
      "execution_count": 160,
      "metadata": {
        "id": "ufevecU4nyLv"
      },
      "outputs": [],
      "source": [
        "import numpy as np\n",
        "\n",
        "def uz_C1C2(x: np.array, L: np.array) -> np.array:\n",
        "    \"\"\"\n",
        "    Calculates the part of EI*uz(x) that depends on the loading (L),\n",
        "    excluding the C1*x + C2 terms.\n",
        "\n",
        "    Args:\n",
        "        x (np.array): A numpy array of positions along the beam.\n",
        "        L (np.array): A numpy array representing the loading on the beam.\n",
        "                      Format: [[load_type1, value1, position1], ...]\n",
        "                      load_type can be 'P' (point load), 'M' (moment), or 'q' (distributed load).\n",
        "\n",
        "    Returns:\n",
        "        np.array: A numpy array containing the calculated loading-dependent\n",
        "                  part of EI*uz(x) at each position in x.\n",
        "    \"\"\"\n",
        "    # EI*uz(x) = Integral(Integral(M(x) dx) dx) + C1*x + C2\n",
        "    # We calculate the Integral(Integral(M(x) dx) dx) part here based on basis functions\n",
        "    # M_load(x > a) contributes Integral(Integral(M_load(x-a) dx) dx) for x > a\n",
        "\n",
        "    ei_uz_load = np.zeros_like(x, dtype=float)\n",
        "\n",
        "    for row in L:\n",
        "        load_type, value, a = row\n",
        "        value = float(value) # Explicitly convert value to float\n",
        "        a = float(a) # Explicitly convert position to float (though usually positions are floats/integers)\n",
        "\n",
        "\n",
        "        if load_type == 'P':     # Puntlast (neerwaarts positief)\n",
        "            # Double Integral of moment contribution: -P * <x - a>^3 / 6\n",
        "            ei_uz_load += np.where(x > a, -value * (x - a)**3 / 6, 0)\n",
        "        elif load_type == 'M':   # Puntmoment (positief met de klok mee boven balk)\n",
        "            # Double Integral of moment contribution: +M * <x - a>^2 / 2\n",
        "            ei_uz_load += np.where(x > a, value * (x - a)**2 / 2, 0)\n",
        "        elif load_type == 'q':   # Verdeelde last (positief omlaag)\n",
        "            # Double Integral of moment contribution: -q * <x - a>^4 / 24\n",
        "            ei_uz_load += np.where(x > a, -value * (x - a)**4 / 24, 0)\n",
        "\n",
        "    return ei_uz_load # Corrected variable name in return statement"
      ]
    },
    {
      "cell_type": "code",
      "source": [
        "import numpy as np\n",
        "from sympy import symbols, solve\n",
        "\n",
        "def computeDeflectionBC(x: np.array, L: np.array, BC: np.array) -> np.array:\n",
        "    \"\"\"\n",
        "    Berekent de doorbuiging (EI*uz) voor een balk met algemene belasting (L)\n",
        "    en gegeven randvoorwaarden (BC).\n",
        "\n",
        "    Args:\n",
        "        x (np.array): Een numpy array met posities langs de balk.\n",
        "        L (np.array): Een numpy array dat de belasting op de balk voorstelt.\n",
        "                      Formaat: [[belasting_type1, waarde1, positie1], ...]\n",
        "                      belasting_type kan 'P', 'M' of 'q' zijn.\n",
        "        BC (np.array): Een numpy array dat de randvoorwaarden voorstelt.\n",
        "                       Formaat: [[positie1, type1], [positie2, type2]]\n",
        "                       type kan 1 zijn (alpha=0) of 2 (uz=0).\n",
        "                       Er wordt uitgegaan van 2 opgegeven randvoorwaarden.\n",
        "\n",
        "    Returns:\n",
        "        np.array: Een numpy array met de berekende EI*uz(x) op elke positie in x.\n",
        "    \"\"\"\n",
        "    # --- STAP 1: Bepaal C1 en C2 op basis van randvoorwaarden ---\n",
        "\n",
        "    C1, C2 = symbols('C1 C2')\n",
        "    C1_val = 0\n",
        "    C2_val = 0\n",
        "\n",
        "    if len(BC) == 2:\n",
        "        bc1_pos, bc1_type = BC[0]\n",
        "        bc2_pos, bc2_type = BC[1]\n",
        "\n",
        "        # Geval 1: Hoek en doorbuiging op één punt (uz(x1)=0, alpha(x1)=0)\n",
        "        # De tekst beschrijft dit als BC = [[x1, 1], [x1, 2]] - volgorde kan variëren\n",
        "        # Controleer of beide randvoorwaarden op dezelfde positie zijn en één type 1 (alpha=0) en de andere type 2 (uz=0) is\n",
        "        if bc1_pos == bc2_pos and ((bc1_type == 1 and bc2_type == 2) or (bc1_type == 2 and bc2_type == 1)):\n",
        "            x1 = bc1_pos # De positie van de randvoorwaarden\n",
        "\n",
        "            # Uit alpha(x1) = 0: alpha_C1(x1, L) + C1 = 0  => C1 = -alpha_C1(x1, L)\n",
        "            # Zorg ervoor dat alpha_C1 gedefinieerd is in een vorige cel\n",
        "            C1_val = -alpha_C1(np.array([x1]), L)[0]\n",
        "\n",
        "            # Uit uz(x1) = 0: uz_C1C2(x1, L) + C1*x1 + C2 = 0 => C2 = -uz_C1C2(x1, L) - C1*x1\n",
        "            # Zorg ervoor dat uz_C1C2 gedefinieerd is in een vorige cel\n",
        "            C2_val = -uz_C1C2(np.array([x1]), L)[0] - C1_val * x1\n",
        "\n",
        "            print(f\"Geval 1: Bepaalde C1 = {C1_val}, C2 = {C2_val} op basis van hoek en doorbuiging op x = {x1}\")\n",
        "\n",
        "        # Geval 2: Doorbuiging op twee punten (uz(x1)=0, uz(x2)=0)\n",
        "        # Controleer of beide randvoorwaarden type 2 (uz=0) zijn en op verschillende posities\n",
        "        elif bc1_type == 2 and bc2_type == 2 and bc1_pos != bc2_pos:\n",
        "            x1 = bc1_pos\n",
        "            x2 = bc2_pos\n",
        "\n",
        "            # Vergelijking 1: uz(x1) = 0 => uz_C1C2(x1, L) + C1*x1 + C2 = 0\n",
        "            # Zorg ervoor dat uz_C1C2 gedefinieerd is in een vorige cel\n",
        "            eq1 = uz_C1C2(np.array([x1]), L)[0] + C1 * x1 + C2\n",
        "\n",
        "            # Vergelijking 2: uz(x2) = 0 => uz_C1C2(x2, L) + C1*x2 + C2 = 0\n",
        "            # Zorg ervoor dat uz_C1C2 gedefinieerd is in een vorige cel\n",
        "            eq2 = uz_C1C2(np.array([x2]), L)[0] + C1 * x2 + C2\n",
        "\n",
        "            # Los het stelsel van twee vergelijkingen op voor C1 en C2\n",
        "            equations = [eq1, eq2]\n",
        "            unknowns = [C1, C2]\n",
        "            try:\n",
        "                solution = solve(equations, unknowns)\n",
        "                C1_val = solution.get(C1, 0)\n",
        "                C2_val = solution.get(C2, 0)\n",
        "                print(f\"Geval 2: Bepaalde C1 = {C1_val}, C2 = {C2_val} op basis van doorbuiging op x = {x1} en x = {x2}\")\n",
        "            except Exception as e:\n",
        "                print(f\"Fout bij het oplossen voor C1 en C2: {e}\")\n",
        "                return np.zeros_like(x)\n",
        "\n",
        "        else:\n",
        "             print(\"Fout: Niet-ondersteunde combinatie of aantal randvoorwaarden opgegeven (verwacht 2 randvoorwaarden die overeenkomen met Geval 1 of Geval 2).\")\n",
        "             return np.zeros_like(x)\n",
        "\n",
        "    elif len(BC) == 1: # Behandel expliciet het geval met slechts één randvoorwaarde\n",
        "        print(\"Waarschuwing: Slechts één randvoorwaarde opgegeven. Kan C1 en C2 niet eenduidig bepalen zonder verdere aannames.\")\n",
        "        # Behandel enkelvoudige randvoorwaarde indien nodig, maar de tekst richt zich op 2 BC's voor C1/C2\n",
        "        return np.zeros_like(x) # Retourneer nul doorbuiging aangezien C1 en C2 niet beide kunnen worden opgelost\n",
        "\n",
        "    else:\n",
        "        print(\"Fout: Niet-ondersteund aantal randvoorwaarden opgegeven (verwacht 1 of 2).\")\n",
        "        return np.zeros_like(x)\n",
        "\n",
        "\n",
        "    # --- STAP 2: Bereken doorbuiging uz met de bepaalde C1 en C2 ---\n",
        "\n",
        "    # EI*uz(x) = uz_C1C2(x, L) + C1_val*x + C2_val\n",
        "    ei_uz = uz_C1C2(x, L) + C1_val * x + C2_val\n",
        "\n",
        "    return ei_uz\n",
        "\n",
        "# Opmerking: De functies alpha_C1 en uz_C1C2 moeten gedefinieerd en beschikbaar zijn\n",
        "# in vorige cellen om deze functie correct te laten werken."
      ],
      "metadata": {
        "id": "0_XnJvapY9nV"
      },
      "execution_count": 161,
      "outputs": []
    },
    {
      "cell_type": "markdown",
      "metadata": {
        "id": "112dee1f"
      },
      "source": [
        "## Berekenen en plotten van de doorbuiging met randvoorwaarden\n",
        "\n",
        "### Subtask:\n",
        "Gebruik de `computeDeflectionBC` functie om de doorbuiging te berekenen en te plotten voor een balk met een specifieke belasting en randvoorwaarden."
      ]
    },
    {
      "cell_type": "markdown",
      "metadata": {
        "id": "6fa223df"
      },
      "source": [
        "**Reasoning**:\n",
        "Define the load matrix L and boundary condition matrix BC for a specific problem, create a vector of x positions, use the `computeDeflectionBC` function to calculate the deflection, and plot the result."
      ]
    },
    {
      "cell_type": "code",
      "metadata": {
        "colab": {
          "base_uri": "https://localhost:8080/",
          "height": 489
        },
        "id": "ccf5fd63",
        "outputId": "5ccfb8c5-ffea-46c4-cc14-ccb5f540d18d"
      },
      "source": [
        "import numpy as np\n",
        "import matplotlib.pyplot as plt\n",
        "\n",
        "# Ensure L_beam, P1, M1, q1, VA_val, VB_val are defined from previous reaction force calculation\n",
        "\n",
        "# 1. Define the Load matrix L (reusing the matrix from the previous bending moment exercise)\n",
        "# Format: [load_type_string, value, position]\n",
        "# Upward forces are negative, clockwise moments are positive, downward distributed loads are positive\n",
        "L = np.array([\n",
        "    ['P', -VA_val, 0],      # Vertical Reaction at A (upward is negative)\n",
        "    ['P', P1, 1],       # Point load P1 (downward is positive)\n",
        "    ['M', -M1, 2],      # Moment M1 (counter-clockwise is negative for the basis function)\n",
        "    ['P', -VB_val, 3],      # Vertical Reaction at B (upward is negative)\n",
        "    ['q', q1, 4],       # Distributed load q1 starting at x = 4m (downward is positive)\n",
        "], dtype=object)\n",
        "\n",
        "# 2. Define the Boundary Condition matrix BC for a simply supported beam\n",
        "# Boundary conditions: uz=0 at x=0 and uz=0 at x=L_beam (hinge at 0, roller at 3, but deflection is 0 at both supports)\n",
        "# Support A is at x=0, Support B is at x=3\n",
        "BC = np.array([\n",
        "    [0, 2], # Deflection (type 2) is zero at x = 0 (Support A)\n",
        "    [3, 2]  # Deflection (type 2) is zero at x = 3 (Support B)\n",
        "])\n",
        "\n",
        "# 3. Create a vector of x positions (reusing x_values from previous steps)\n",
        "# Ensure x_values and L_beam are defined\n",
        "\n",
        "# x_values = np.linspace(0, L_beam, 200) # Define if not already available\n",
        "\n",
        "# 4. Calculate the deflection using the computeDeflectionBC function\n",
        "# Ensure computeDeflectionBC, alpha_C1, and uz_C1C2 are defined in previous cells\n",
        "deflection_values_bc = computeDeflectionBC(x_values, L, BC)\n",
        "\n",
        "# 5. Plot the deflection diagram\n",
        "plt.figure()\n",
        "plt.plot(x_values, deflection_values_bc)\n",
        "plt.xlabel(\"Position x (m)\")\n",
        "plt.ylabel(\"EI * Deflection (kNm^3)\") # Units depend on L and BC values, kNm^3 if L is in kN, m, kNm\n",
        "plt.title(\"Deflection Diagram (EI * u_z) with BCs\")\n",
        "plt.grid(True)\n",
        "plt.show()"
      ],
      "execution_count": 162,
      "outputs": [
        {
          "output_type": "stream",
          "name": "stdout",
          "text": [
            "Geval 2: Bepaalde C1 = -1.55555555555556, C2 = 0.0 op basis van doorbuiging op x = 0 en x = 3\n"
          ]
        },
        {
          "output_type": "display_data",
          "data": {
            "text/plain": [
              "<Figure size 640x480 with 1 Axes>"
            ],
            "image/png": "[encoded data removed]"
          },
          "metadata": {}
        }
      ]
    },
    {
      "cell_type": "markdown",
      "source": [
        "## **Oefening 2 buigend moment + doorbuiging **![image.png](data:image/png;base64,iVBORw0KGgoAAAANSUhEUgAAAj0AAAD7CAYAAACBvyWBAAAAAXNSR0IArs4c6QAAAARnQU1BAACxjwv8YQUAAAAJcEhZcwAADsMAAA7DAcdvqGQAAFWXSURBVHhe7d13fE3nH8Dxz80OkWmT2HsTe48aRalq+ZVqjVJqF1WqRqlRs7X3as0apUZRO1ZsYu8QmSJ73fv8/giRnAwJsuT7fr3uq833+5ybI/d5zv3e5zznXJ1SSiGEEEII8Z4z0gaEEEIIId5HUvQIIYQQIkuQokcIIYQQWYIUPUIIIYTIEqToEUIIIUSWIEWPEEIIIbIEKXqEEEIIkSVI0SOEEEKILEGKHiGEEEJkCVL0CCGEECJLkKJHCCGEEFmCFD1CCCGEyBKk6BFCCCFEliBFjxBCCCGyBCl6hBBCCJElSNEjhBBCiCxBih4hhBBCZAlS9AghhBAiS5CiR6SpcN89jBqxied6bUYIIYRIXTqllNIGReZiCA0ixNgKK7O48UD/YLLbZo9V2eo5vX4iKw/cxcc3nOaDV9CrgWWcbbSCb+1k1qoTBOsVOp0p5VoM4POGOdHFanP/8BJW/OeBqZkpRoZIIvWOdBzanXLWsRq9cG3554y9M5R1k5wx1iaFEEKIVCQzPe8Bz7+/pWDekjT7+Cv6DRxC/z5f0KJ2ZfrMPEdEnJbGlGnSjU6VQtm/8x7GOU3jZBNi6VSHLl90wtFrL3PnTOKn7+ZzPzJum3yVWtKyhjG75y3ntq40LTu2pFgCBY8yPGbbNk9adKosBY8QQog0J0XPe0EH4Y84uH0VC+bOY+uhp9TosYRF4+pjoWmZI3dhTAJ9yeZUi2pFTTTZ+IzM7Slc0oEQi2aM6FaWRxfWsOloSJw25raO1GhSk1rtf2L26M+oWT5fvN8LEHJ3G4eCW9Ci7Ot/rxBCCPGuSdHzPtDZMHC1B8+8nvLU+zmPbuzj56+rkyOBV1cpb44fv4FjjfqUTKgySUBUwGncTevS59svKGVxn78WbSdAc1I08OpZspdrSI7Y573iUFzYvItC7T6lgNQ8Qggh0kECb4siM9JhinXOPORxsEzyRdUHn+L4+SAq1auDuTaZiADX81hXqkXOcl3o1iQfV3YuZc/d2CuRFfdPeVOoTr44a31iM+gvs2WvGW06FEq0jRBCCJGaZCHze8Bj4yAWGk/khyZ+XLx4F6O8FalS2oGEJlR8j46kavMD/HT6BD0rmBDufYa1K/7FIxyKN/yGzg0cNFsoDv0ymCcdZ/B5SRMe/t0X50+WUe97FzZNfLkY+TmLh07FedIvVE1kXfSzU+Po9GsRNm76EttYVY/HmbUs3XGRIOO6DBrVnhxPj7B6zRH89aH4BeWny6C+VM0biMvmNRy5F0yIjxcOtfvQt0NJNOu2hRBCvBE9vu5PwL4gDtkS+lia/hfBvCtJTQqITCOCM3//yuw1xwk2s8T9wA80qdubndfDNO0U146eJjJvTaqVMOH5jc1MmnOVWl1r82jbb0ydvkPTHpTy4KyHLZWcokuogi170KFMNo6tWoRrYHQbfegZbukrUzrRMRDJ4Y2HqfZpmzgFjyHyPEvXh9JzdFfCdvZnyKhpTFvhRetBPzJ6zDgaGVbxdf/ZrJg2G48in/P999/zw+CybP7mK/68HBX7FwghhEgpwzP2/jaYnr2HMWPBXIZ84kx5504s+PcxhjgN0/cimHdJip73gLljVdp3+ZbvB35Okzq1+Pjb3xla8xwDPhvPlVhrjpXy4tjxGzjWrE++h1uYs8GIb8Z+RSkrC/KUb0Pv/s1jPy0AUYGncTepRokX63+MzJzp/lVtAp5sYd0WDxQQeNkVi1K1Sazm0YccYZtLUVq3ijuL5H96D1RoQy6DF54+/ty7k4f+oztSODuACVY5LLm+bx2hDb/jk+r26ACTHDmwNNzh1o3wOM8lhBAiJRSuS39gv/nXLFw8i18mTWXVP/sY6XyDoe1bMftgQJzW6XkRzLskRc97wL721/RunifWtKE5tRpWw89tCWv+9ouJ6oNO4XL+OUbhrizcYUGfUR3Ibwom1nWYsGoZfZvnj2n7UsDZ6PU8r04l6ajU5Usa5gpm95K1PI5S3DnpTZG6eRNdq+NxYCu+lT6juqaCV9nq075tPoKvnuK8lyNdhnUiT8y17P5cunif4vV783kNq5htgq5e5k5wAZyKvf6ThhBCiIQZIl1ZvuIiSvkT+mKJps7InvZDvqSkzo2V09bjF2vpZvpdBPNuSdGT6YVy5+JVvELjRk1tbLAyCuCK67WY2PNzxznvl5vcDgHcdFnGzxM3cTcozmYaiqsnn1Oqrn2cqEWej+jeoST3T61k86nHnL5rTuWSiRUhz9m16TKNOjeIt3DaoUo9Kjgo7rucxN+6FjUqvxpJ+vBznDrvT/l69bGOKYQUl/87RmjeOtQoIyt6hBDiTakoTx4/OM/CQVM4/vxV3LJwKYramOJz8wqPYp2OSq+LYN41KXoyOe9/R1GnWmW++P4gcVa56A0YUBCzTl3hduw0hoJt+XnuIlYtHwm7+9Hru72aGxi+opQHrh42VHLUTmVmo2WvThQ1vcma36dy1VCFMomc2wr33s3uO7X5sE4iDQjgyJEr5K/egHKxmgS7nea8Zz6cGxSO6aQG/TW2/32Fsq3aUz6ZnzSEEELEZ2zZlFGzJjJxyVjq2b6K64P8CQjXY2HrgE2sQ//z88e54FeC6vVzowPCvc+wbNokJv48ifVHfF81jKG4fOo5pevao9Plp1Ov1mSPOMr6Fed5VfYEcPqOGVVKaz40GwI4tGoKo4cNYfa2O+iJ5ObB5Uya8AvjRw1lwtwj+Oohwu8Sa+ZMY+qUCQwbOpH9N7XrWOOTouc9kL9iO9q0LB3nLsfBXl4EGuyoWLM8AEo95fjxmzi9mJo0salApRLW+Dx6RATge2w6v/8dHOsZICrwDO4mzjHreWKzqfwFXRrk4cJfK4ksWTvR87C3t2/HomknSiYyMaMPPY3L2WeUq1MXq1il/v0TJ/HNXoPqsWZ/As5tZsdlO1p2qoex/hrTxq6NN1UqhBAiOSyp2WkYg7s5x7mn292dOznz3IJ6nTvy4vqVNL8Ixv/cMg6Hd2LY5zlZ+vW3/DRtLLt8ajPsp1H8OPYzHi3qwqjf1jJ9zlmqfTGc70f+RPdS5+jfbSb3X3ONixQ9mZxdnQ60rN6ANk1eTQ8q5cG2v45TwHkA3T+KLuH1Qac4fj6Eyg3qvpiajCAkNIrchQthTgj79/hQoV72WM+suL51C6H5yyR46bvOyInPe7bA3qgU1RskvJ5HGR6xbbsvLTpVSPRrJwKuuHDWMz/VGzjF6owBHD18mXzODSgfa5cenz1PcN4WfFDTAq+jOzAu90GanQcWQoj3nT74JLNm7aVYs0lMGFgu5picthfBROHyjwfV2xYiwssT7+eXCM7zNYM+LYM5oDPJjpVlCAf+uEG74d0pax/9JpAjRzb8bl7l0WuucZGiJ5MzsarPgK90/Nz7B1b/c4KTh7cwqc//WO3zCUs2jYpZcBZ47QI3QipSv0muFwWKNS0/b0P4vSP8uXgGD0t/SX17ok+DbRnHZ61r8eGQbWye3ZnOPebEuQrspUJtetK5eWOql0yoLIKQO9s4GtGS5qUSzgN4X7pMcM6G1I01o2OIuMr5K0E4N2+KTayipkCtBhS18eXohhn8drAoXTrEXrwthBDijRmesXn0EE7nHMbqdQMoHGvhTtpeBBNJrsYdqZ/PwCWXs5gV+ZyvOxWJaRPlf5Ur9wy06P0tZWOucdFz+eJNsjsVJV9iy0tfkJsTvicint1g787/eBBiS9mqdald3SlO9az0z7h3X0+hYjnjzLo8d7+GR5QjpQpbveMCQnFschv+tFnAvH5OiT63IfgJ9/xtKVYgW6yonqd3HmDuVBQ7TQcO9rrFbe8clC6XN9mL6YQQQiQlnGO/f8n4Iw1YsLIfxWNP+gO+h7+ncotNVO36AVbPfLCr0Jmhwz6l6KsLazUURyYPwb3jdD4vEftDbwjr+9XiyyV6ph7ai/mm+dScnPBNbZXhEeOb1+A/x8XsX9E2pnjy/ncIlT46yZSLR+n24gO1Qe/GiLoNuei8nt1zmyZ4duIlmel5T5jZlaLtF33p3+d/NNEUPAA6YzuKagoeAJuCZSj9zgseMOgv8tceCz5sXzDJ5zbKnl9T8AAYk7dY/IIHIHvuElSSgkcIId4RxZUNI1h4syNr/nxZ8CiuHHXBWx/9/+lxEUzUcxdcLoVTpX7s2SLF5ROuGDnVpmqhV88d5LaD3Vesadq+TpIFD1L0iNTif3orbvk60CCfdDEhhMio7u+fzMJLzZkzuyN5X3zQVPqb/L3jPAbS7yIYv1PHuRxQmur17WJiSj3BxeUOhWo1iPXcek5u2I5/3jZ8WM+SwCvzmL7GK2YbLXlHEqkgnMMbj1L909ZYJzXNI4QQIt14n51N92EHiAo7zJSRIxg+fATDh31H/z6DOPm8CPbG6XMRDOi5cPQMJoXqUCXWbFHU8xMcvxhK5fq1Ymb7lfLC9ewDyrVqTxmLEA5u96Zq85wx22hJ0SPeOYP+Lhe9q9O+RaybPwghhMgw9BHH+b7rWA5f/I9FM39l+vQXjxkzmb/sIHbFS2GSThfBKPWMSxcfUbJx8zizRYFXznEztAoNm+WKiel0uanTuBKRvhdY9esEbpf6kkZ5Ei9tZCGzEEIIIRKU9hfBRHv+6A5hdsXIE2uxtIr04+4DPYWL59KsT43kyfVrBFmXoGT+RBYJvSBFjxBCCCGyhMTngIQQQggh3iNS9AghhBAiS5CiRwghhBBZgqzpeY3t23fg4+OtDQuRLJ92/BRrmxzasBBCpLqNGzejlMLS0hJLS0uKFStG0aKFtc2yFCl6krBv3wG++aY3d+/e1aaESJZ58+bTufP/sLeXy/eFEGnLwcEBPz+/ODF7e3uqVXPG2dmZ6tVr4OzsjKNjgTht3mdS9CTB0dERd3d3SpUqhZ2dvTad5s6edSUyMpLSpUtja/vqLpXp5eX+lClTBhub9H9Td3U9Q1RUVIbZnzNnTqPX6zly5Bj169fVpoUQIlU1aNCQZ8/8CAsLIygoiKdPn2qbAJAnTx4+/LA1/fsPoGrVytr0e0WKniS8LHp27dpDq1YttOk0V6BAAZ48ecLevfto3ryZNp3m8ubNi6enJ/v3/0fTpo216TSXK1cufHx8OHjwMI0aNdCm05y9vT3Pnj2TokcIkSH4+j7D1dUVV9czMf91d3eP06ZWrdr079+fzz79DFOzhG8emJnJQmYhhBAiC3BwsKNFiw8YPXoUW7du4dGjR3h4eLJp01988EFzdDodJ0+eoGvXLjg6FWTMmJ94/NhD+zSZmhQ9QgghRBaVN29uOnbswL//7uXatRsMGDAQa2trPD09mTjxZ4oWLczEiZPQRxm0m2ZKUvQIIYQQglKlSvDbb3N48tiDefPmU6ZMGSIiIhgz5kdq1a6Fm9t17SaZjhQ9QgghhIiR3Sob/fr15eoVN379dToWFha4up6hatXK/PrrdFQmnvSRokcIIYQQ8eiMYNiw7zh37gI1atQkPDycESOGU7deXW7duqNtnilI0SOEEEKIRJUpU4oTLieYNOkXzMzMOHHChWrVqnDixClt0wxPih4hhBBCJMnIWMeoUT/g6nqOcuXKERgYSIsWH+DiclLbNEOTokcIIYQQyVKhQjkOHz5KpUqVCQwMpGXL5pmq8JGiRwghhBDJ5uBgx4ED/8UpfI4fP6FtliFJ0SOEEEKIFHlZ+FSuXIXAwEBatWqRKQofKXqEEEIIkWIODnbs338gpvBp27Y1T54k/P1eGYUUPUIIIYR4Iy9nfIoWLcqzZ8/4+ute2iYZihQ9QgghhHhj9va2rFy5GiMjI3bt+ofly1dom2QYUvQIIUQmpwyP2Tp7HKN+GMUP8R6j+XHsJOat2M0t30x8K12RodWvX5dBgwYDMGTIYB4+jPvt7RmFFD1CCJHJ6YzyUr9DF9pU9OePmdM5/qQM//uyB92796B796/49MMqPDswipql6zNnvw9K+wRCvAOTf5lM6dKlCQgIoGfPHmTEjiZFjxBCZHrG5HQqQR79c54Z8tOqa0cqli5OyZLFKVmyBJVqfsj388ZRz+wcs76bzZ0I7fZCvD1zCzNWrVqDsbEx+/fvY8HChdom6U6KHiGEeC+Ec+roeYyzVadGdUttEiNLB+ytTAj28sBXr80K8W7UqOHMiBHfA/DTT2MID8tYFbYUPUII8R4wRF7l2EkP8lWtR8Uc2iz4uu7l6IMwyrRoS7n4NZEQ78yPo3/E1tYWHx8f1q1fp02nKyl6hBDiPRD60IXTd0IpW68+9sZxc0EPdzK03yKy1fqBWdM/wipuWoh3Klt2S7p37wHA3Llztel0JUWPEEK8B566nOB6WHassz3l0IGDHDhwgK3rFvHziD70GLyOkv22cfTABKrllMO+SH3fftsfnU7H2bOuGerb2KX3CyFEphfOyaPnMbaqRe2atlhYWGBhkY3cjmWoVLkElqFPuHvvCYGR2u2ESB3FihWhVasPAZg793dtOt1I0SOEEJmcIfIKx055ULBaKz5pWIe6dWtHP+o14KPPhzF7fCOOze5K75H/Ea7dWIhU0r//AAA2bdrI06de2nS6kKInFn2UgapVq5EzZ05y5szJkydPAOjU6dOY2P79/2k3SzVRkXqqVKka87s9PDwA6NixQ0zs4MHD2s1STWREFJUqVY753V5e0Z24Q4f2MbHDh49qN0s1EeGRVKhQIeZ3+/r6AtCuXduY2LFjLtrNUk1EeCTly5eP+d3+/v4AtGnzYUzMxeWkdjMh3lrowxOcuRNKmbp1sdWs5wHIUaEypXIoLu3cwc0wbVaI1NGqZQtKlChBZGQkK1Ys16bThRQ9sRibGNG/f398fX3x9fXFYIi+e2lgYCC+vr6ULFmKZs2aaDdLNSamxvTr1y9mf5SKvtPTy/0pU6YsjRs31G6WakzNTOjbt2+8/QkICMDX15dy5crTsGF97WapxszclG++SXx/KlasRL16dbSbpRozc1P69Pkm0f2pXLkKderU0m4mxFt76nKCG+F5qVa/NAnUPIQ+uMOjYD1W+QrgYKLNCpFKdPD5510AOHw47T6gJ0mJOPRRBlWmTBlF9L0k4zwOHTqibZ7q9FEGVbJkyXj7AqijR49rm6e6qEi9Kl68eLx9AdTx4ye0zVNdZESUKlq0aLx9AdSJE6e0zVNdRHikKly4cLx9AdTp067a5kK8A2Fq7ddllI11R7XPV5tTyqD3Vat7V1SmJo7qh41PlEHbQIhU9M8/uxWgHBwctKl0kXlmegyh+Pml/tloI2Mdffv204apWLFSms5ivJTY/lSuXCVNZzFeMjYxSnB/qlVzTpdZDBNTY775pq82TPXqNahVq4Y2nOpMzUzo0+cbbZhatWpTvXo1bViIt2aIvMTRk0/IV6UeFW00uZD7/DG6E4NXP6PbLxv48dN86OI2ESJVOTs7A+Dr68u9ew+06TSXSYoexck5n9KixwZCtalU8L//fY6pqWmc2BdffBHn57T0+eddMDGJOyfdrVu3OD+npS5dumJsHHcSPT33p2vXLzLc/hgZxR1a6bk/4v0U7nuI8b2/4OMW3VjrFoCP+3aGdP+Sbt2+pFu3LrRv2ZDqtT7hz4c1WHLYlSXDa5NN+yRCpLLcuXPi5OQEgKurqzad9rRTPxlR8IPVqlk+c1W81mTlHqnNpo6PPmoXc1rC2NhYPXnyVNskTbVu3SZmf0xMTNTTp17aJmmqVasPY/bH1NRUeXn5aJukqebNW8TZHx8fP22TNNW0abOY/TEzM1PP/Py1TYQQIkvo0OETBajhw0doU2kuw8/0KIMfm2f+wX0Uwd4e+EZpW6SObt2+jPn/Zs0+IF++PHHyaS32/jRv3oI8eXLFyae1L754NXPRsmUrcuVyiJNPa7FnUj78sDUODnZx8mkt9v60adMWWzvNeQchhMgiqlevDhlkpifDFz2ex+bhmncQXSvYE+zliV8afVHeR23bYmcX/cYZu+BIL+0++ghbW1vIIPvzcfv2WFtbQwbZnw4fdyBHjugvHMoI+9Pxk45kz54dMsj+CCFEenF2ji56zp6VoidJhoiLLFgZRa/+jSmQOxsRoZ74PIu+jDy1mZqZ0KlTZ3LkyEGHjz/WptOcuYUZn376GTY2NrRv106bTnMWluZ07PgpdnZ2fNS2rTad5iyzWfDJJx2xt7enbZs22nSay5bdkg4dPiFnzpy0/jD6rqRCJNfFi5f57rthfPNNX3bv3qtNC5Gks2fPM2TIUPr1+5YDBw5q02muaNGi8OL2Hen9resZuOhRnFu+hOwdBlLRypQ8eeww4IPnkzQ6vwW0a9eeZs0+wMLSXJtKF+3ateeDD5pjbmGmTaWLdu3a07x5C8zM4y76Ti/t2rWnRYuWmJpljBuRtGvXnpYtW2FimtCdU4RI2Nat23F2rsqKFcvZuXMHH37YkhEjvtc2EyJBa9f+QY0azqxevYqtW7fQrFkTJk6cpG2WpiwsLGL+PzQ0LS5HSpxOvbyDWgYT9ngTw3+JZNxvn+NgrDg9oyX1Rlzihy23Gd8u+rRBagoLDefxkycsWrSQHj16YmVlFe+KnLTm5+fHli1/0avX19pUuvD19WX79m306NFTm0oX3t7e7Ny5I+bbfdObp6cne/fukdNbItmioqKoVasGhQsXYfbsOXh4eLB79y4WLVrI0aPHYz4xC5GQ8PBwqlWrQuXKVVi2bDmFnJzo920/li1byv37DylQIJ92kzTh/+w5dvbRyzMeP/Ygf/682iZpR7uyOUPQ+6t1I75Rm268ulTrwR9dlIXOQvVblDpXLbm4nFSTJ09RHTp8opycnOLcVE4e8pCHPOQhj8z28PV9ptzcritAbd++Q/u2l2ZCQ8Ji9unOnXvadJrKkDM9XscnMGhVYYb0qRBzS/XnZ2bQsf9Gmo1xZf3Yiu/kvFxoSBhr/1jL3LlzuXTpImZmZlSoUJHq1atToUIFcuTIgZubG8+ePcPLy4u7d+9y9+4dAgMDsbS0pFGjxjRv3px8+fJrn1oIIVIsPDyM3r2/pnjx4ly9ehWAChUqcvnyJSZM+JmSJUtpNxEiRlBQIN9804fmzVvQrduXdPj4YxYvWUz//t9y6dIVKlQop90kTQQ8D8TGNvrCl0ePHlOwYPq9Z2a4oscQeY1JfaaiL1mGV2cBIcLnOAt+203ZnrvYs+AD3nYVydq1fzB48CB8fX1p1Kgx/fsP4KO2bZO1HuTq1WssWDCf1atXERQUxJdffsWc2XOwtom+ekgIId7U99+PZNq0qdjZ2ZEvXz7c3NyoXr0Gp0+f0jYVIp7hw0cwffqvtGzZCisrK7Zu3cJHH7Vjy5a/tE3TjKenN3nz5gbAx8cvfW8pop36SV8GdWHpIDVtR/wb3YU+XaHqWZuoKu3XqFBtMgU8Pb1V+/YfK0C1bt1GXbnipm2SbIEBQWrq1GnK0tJSFSxYUO3Z86+2iRBCpEinTp2Vubm5qlixkipTpozKlSuXKl68uAoNCdM2FSI+g1KzZ89RVapUVeXKlVM//TRWhYdFaFulqXv3HsSc3goJfpt38LeXoYqeUI8tavCAP5RPlDajVFTYLvVxfgtVou409SSBfHJcueKm8uTJo2xsbNTy5Su06Td248YtVbt2HQWoSZN+0aaFECJZtmzZpgA1b978mJir6zllYmKihg0bHqetEJnFqVNnFC/uTm/Qa7Np610sjXkn9MFXmdFvHoU/64BDAlf46ozscbA1J9jTA99Ibfb1rl69RuPGDbGxseHSpSt07/6VtskbK1myOMeOHmPQoMGMHj2KSZN+0TYRQogk+fn507dvHxo1aky/vq++RLdatSqMGPE9M2fO4OTJ03G2ESIzOHfuLADly1dAl85VRzr/elD6m8z7ti3OFZow9d/TzB/Si43nY1c14RyY35/P2vZlh7uBIO+tDOryJZP/vBWrTdJu3LhF48YNsbOz4+DBwzg5FdQ2eWtGxjpmz57FkCFD+fHH0UydOk3bRAghEjVo0EACAwNZtmw52q9CH/vTWEqXLk2PHl8REf4Gn/qESEdnz0YXPVWrVtWm0lyGW8j8rumjDNSoWQNfXx9cXE6myf0B+vcfwIIF8zl69Dh16tTSpoUQIo4dO/7ho4/aMGfObwwcOECbBuD0aVfq1KnF8OEjmDxZZpNF5lGtmjPnzp1l/vwF9O37jTadpt77omf8+AmMHz+O//47RKNGDbTpVBEZEUU152qEhYVy8cIlLLPFvg5NCCFeee4fQNlyZShatBhHjxyJN8sTW+zTXM7O6f+pWYjXiYyIwipHdiIiIjh16gw1ajhrm6Sp97rouXTpCs7OVenbtx9z5szWplPV+fMXqVmzOv37D2DmzBnatBBCANC9ew82bFjPxYuXKVGimDYdR3hYBJUqV8TU1JRzZ88n6xYbQqSnc+cuUK1aFUxMTAgKDE73r1FK9zU9qWnatKk4ODgwZfIUbSrVValSiYEDB7Fw4QL8/Py1aSGEYPfuvaxcuYKJEye9tuDhxRcPr1ixCjc3Nyb8PEGbFiLDebmIuUyZsule8PA+Fz2ent5s2rSR3r37pNvppQEDBhIREcHSpUu0KSFEFhcYEETv3r2oXbsOQwYP0aYTVbt2TQYNGsyUKZM5f/6iNi1EhrJ7924AatSooU2li/f29NbPP0/k558n8ODBI/Lly6NNp5mPP+7AhQvnuXvnXrpfqieEyDi+/ro3a9eu4fz5i5QuXVKbTlJYaDgVKpYne3YrXM+4YmKawH0+hEhn3t6+FCiQj8jISPbv/4+mTRtrm6S59/ZteOvWrXz4Yet0LXh4cWC7f/8+Z8+d06aEEFnUvn0HWLp0CePGjU9xwQNgYWnOsmUruHTpIr/IlVwig1qzZjWRkZEUKVKEpk3Sv+DhfS16wsMiuHz5EnXq1NGm0lyd2rUBcHU9o00JIbKgoMBgvv66JzVq1GT4sOHadLI1aFCPb7/tz8SJP3P5cvSXkwqRkSxbthReLNZP6qrEtPReFj3nL1wgKioKZ+fq2lSas7WzoWjRopw5I0WPEAKGjxiOh4cHy5evwMj47d4Jpk6ZiqOjI927f4U+yqBNC5FuTp48jZubG0ZGRnz1VXdtOt28n0XP+ehTSc7VqmlT6cLZuTrn5PSWEFnewYOHWbRoIT/9NJZy5cpo0ymWLbslS5cu59y5s0ydNlWbFiLdLF++DIAPPmiOo2MBbTrdvJdFj6+vL5aWlljb5NCm0kXevHnx8/PVhoUQWUhIcCg9e3anSpWqjPx+pDb9xho3bkifPt8wYcJ43Nyua9NCpDkvLx/Wr18HQM+evbTpdPVeFj0RERGYm5trw+nG3Nyc8PBwbVgIkYV8P/J73N3dWbFiJcYm7/bQ++u0X8mTJw/du3+FQf9eXpArMpHRo0cRGBhI0aJFad+unTadrt7tyMsgTE1NiYiI0IbTTUREBGZm6X9TJiFE+jhy5Bjz5s1l9OgfqVixvDb91qxyZGfJkmWcPn2KGXIHeJGOzp27EHNqa/r0mRnuruHvZdFjbW1NaGgoYaEZY3bFz88Pa2trbVgIkQWEhYbTs2d3KlasxOhRo7Xpd6Z582b07NmLn34aw40bt7RpIdLEwIEDMBgMNG3ajI8/zlizPLyvRU/FipVQSnH+wgVtKl2cO3eWihUracNCiCzgh1E/cP/+fVasWJnqNxGcNXMWOXPmpHv3r1ByMZdIY+vWbeD48WOYmJgwZ85v2nSG8F4WPc7VqqHT6TLEvXFCgkO5fv061aun/+XzQoi05eJykt9+m8PIkT9QpUrqf/DJYW3F4sVLOXHChdlp/CXLImsLDQljxIhhAHzzTd93cnVianhvv4aidOnSODtXZ+3aNdpUmjpy5BgNG9bnyJFj1K9fV5sWQryn0vMb0b/6qjsbN27g0qUrFC9eVJsW4p3r2vUL/vhjLQ4ODty+dQdbOxttkwzhvZzpAWjV6kO2b99GYECQNpWmVq1aiYODAzVkpkeILOXHMT9y+/ZtVqxYlaYFD8DsWbOxtbWlZ88e8F5+rBUZycyZs/jjj7UALFy4OMMWPLzPRU+/ft8SHBzMipUrtKk04+fnz7p1f9Kr19eYW8jVW0JkFadOnWHmzBkMHz4CZ+eq2nSqs7WzYdGiJRw5cpjf587VpoV4Zw4cOMiIEdFfpzJy5A907NhB2yRDeW9Pb/FitufOndvcuH4zXb7hfOrUaYwePYo7d+5RqJCjNi2EeA9FhEdS+cX6nQvnL2Jmbqptkma6dv2Cbdu2cunSFYoWLaxNC/FW7t9/iLNzVXx9fWnZshW7/tmVLu+1KZHBd+/tDB8+glu3bjFz1kxtKtU9evSYX36ZxKeffiYFjxBZyLjx47h58yYrVqxK14IH4LfffsfKyopevXrKaS7xTgU8D6R9+3b4+vpSvHhx1q9bn+ELHt73oqdJk0b06NGTH38czbVrN7TpVNWzZw/MzMwy7GV7Qoh3z9X1HNOmTWXIkKHUrJn+6/js7W2ZP38hBw/+x8JFi7RpId6Ip6c3DRs15OLFC1hZWbFt29/Y2GaOe9G916e3AAIDgihfoRy5c+fhyOEjWGaz0DZ55+bM+Y3BgwexceNmPv30E21aCPEeioyIomq1KkRGRnLxwqUMtY6vU6fO7N69iytX3HByKqhNC5Fs9+49oHnzZty+fTum4GnatLG2WYb1Xs/08OK+FatXr+Xy5Uu0aduG0JAwbZN3aunSZQwZMpgePXpKwSNEFvLzxJ9xc3Nj+fKVGargAZg7dx4WFhbRp7mEeEOXL1+lbt3a3L59m5w5c3Lw4OFMVfAAoLKIXbv2KHNzc9W4cRMVEhyqTb8TixcvUTqdTnXp0lUZ9NqsEOJ9df78RWViYqIGDx6iTWUYGzZsUoBasmSpNiXEa23Zsk3Z2toqQDk5Oanr129qm2QK7/3prdh2797Lxx+3o1ChQqxcuZratWtqm7yRgOeBDBo8iJUrV9ClS1fWrF6TKRZ0CSHeXlSkHufqzgQHB3Hp4uU0OYX+pj75pCP79+/j6tVrFCyYX5sWWdSFC5c4e9Y1+r5OGh4ennz7bT+2bt0CQNmyZdm7d1+m7T9Z6q25VasWuLicxMzMjHr16jBixPcEBQZrm6XIzp27KF+hHOvXr2PGjJlS8AiRxfwy+RcuXbrIsmUrMnTBAzB//gJMTU3p3ftrbUpkQZcvX+V///ucqlUrc/jw4bhJBYsWLaZMmVIxBU/Pnr1wOX4i0xY8kIVOb8UWER6pRo78QRkbG6scOXKofv2+VW5u17XNEhUUGKzmzZuvypYtqwBVs2atTDvVJ4R4c5cuXVGmpqaqf/8B2lSGtXbtHwpQK1eu0qZEFuDh4almzJipKlWqrKJLm+jHF190U0opdf36TTVmzE+qWLFiMbnixYur//47pH2qTClLnd7SunXrDvPmzWXlyhU8f/6csmXLUq2aM9WrV6dixUrkyJEDY2NjQkNDuXfvHq6uZ3B1deXsWVeCg4Np1uwD+vcfwEdt28rsjhBZjD7KQEHHAjx9+pSTJ0+TPXt2bZMMq127tty9e5fHjz3Inz+vNi3eM2Gh4Wzdto3Vq1exb9+/6PV6bROKFy+Ora1dnC/qNjEx4bvvhjF+3PgMtzj/jWmroIzg4MHDKleuXOrQoSOvjSc3llj84MHDKmfOnGrYsOGqa9cvVKlSpZROp4tTAb98WFtbK1NTU9Wt25fq2rUbiT5nYvGEYonFE4q9jAshUkdS404b79mzV7xjRGZ71K5dJ96/K6F/a+y4yDzOnbugPv+8izI3N4/32if1qFGjppoz5zf19KmX9ikzvQxX9LxuwL1ucCYUSyyeUEwppXbu3KVsbW3VtGm/qqFDv1PHj59Qf/65Pl7bxLZPKJ5QLLF4QrHYcSFE6khq3GnHqI2NjZo+fYb699/9MY9ff50eL57cmDb+55/r1ZgxPyWrbVKxxOIvY3v37kvy35pUXGQO7u5P1MyZs1TlylXiFTgvH6VLl1bTpv2qbt68rd38vZLhih4HB4c4A+v48RNq27a/4w2433+fG69tQrGUbK9te+jQEdWlS9cE2yYU026f2m2FEO9WcsZdSsZoQm0TiiW0/caNm1Xjxk2S1Val4HkTa5tQLLHtReZ16dIVNXz4CJU/f/44Rc/LNT3vuwxX9MybNz/m/w8ePKzs7e2Vra1tnAG3bt0GpdPp4rRNKJaS7RNqO3LkD8rGxkYBqf67UtpWCJF6Eht3KRmjCbVNKJbY9o0aNY537EmsbUqeN6G2CcUS2168Hwx6pfbu3RfTz6ToSWexp1Pv338YL75+/cZkxVKyfey2Bn30VDegvv9+ZLy2r9s+NdsKIVJPYuMuJWM0qbYJxbTb79nzb8zawjNnzibZNiXPm1TbhGIJbS/eP3v2/KumT5+hDb+XMmTRE3vAvS6e3Fhi8YRiSik1ffqMmGm/Tp06J9o2oVhi8YRiicUTir2MCyFSR1LjThtPKJZYPLmxl/EcOXLEHH8GDBiYZFttPKFYYvHkxmLHhcjMMlzR87oB97rBmVAssXhCsZfx2KvdLSws1I4d/8Rrm9T22nhCscTiCcVix4UQqSOpcZeSMfq6tgnFYsdr1KgZc/yxsbFROXPmTLRtSp73dW0TiiUVFyKzyXBFT0IDK6EBl9xYYvGEYi/jOXPmVJaWlnEWeVlZWSV7e208oVhi8YRiScWFEO+OdnwlNO4SiiUWT24sdvyvv7YqY2PjOMefSZN+SbBtSp73dW0TiiUVFyIzynBFz7Ztf8f5efPmLfGuKLh374GytbWN0zahmErB9rHb/vDDqDgHHECVLVs22dun5He9aVshROpKaNylZIwm1DahmNJsH/vU+svHJ590TLDtS8l53qTaJhRTiWwvRGaW4YoeF5eTMf8f+5NPbAdfXFWgbZtQLCXbv2xbt269eAcdQF254pas7WNLrbZCiNST2LhLyRhNrG1CsZfb66MMqnTp0vGOPebm5srd/UmKf1dK2iYUS2h7ITKzDFf0vPRywGk/YSQUT24ssXjs2M6du+IdcF4+2rVr/9rtY0sonlAssXhCMSFE6kps3CUUTyiWWDw5seXLV8Q77rx8tG7dJt72CT1HYrHE4smNvYwLkZllyKInqQGnjSc3llg8TsygVMWKleIdbGI/tPesSOg5E4snFEssnlDsZVwIkTqSGnfaeEKxxOLJiYWHRSgnJ6d4x5zYjzVr1sZsn9BzJBZLLJ7cWOy4EJlZlv7CUS1lAE8vr5ifq1atjIeHB2vX/kHTps0AyGFlRXarbLG2EkKIt6ePMuDt4xPzs5NTQSIjI9m7dx8VK1YEwMbaGstsFrG2EkKkhHw3eCw6I8ibN3fMw9jYGAB7e4eYmBQ8QojUYGxiFOf4o9PpAMiZM2dMTAoeId6OFD1CCCGEyBKk6BFCCCFEliBFjxBCCCGyBCl6hBBCCJElSNEjhBBCiCxBih4hhBBCZAlS9AghhBAiS5CiRwghhBBZghQ9QgghhMgSpOgRQgghRJYgRY8QQgghsgQpeoQQQgiRJUjRI4QQQogsQYoeIYQQQmQJOqWU0gYzGqW8+GfBIs76GmNmYoQhKoKISB3OHUbQtrL5q3b6u6yfsYYbYSaYmSgiw61p1qs/dR3frLZzdHTE3d2dXbv20KpVC21aCJEF3D24mNWHvTAzM0GnooiIiMSqZAcGdamESUwrxcXts9hyLhgzcxMMEeEUqNmLHq0KxnmulDA3NyciIoKzZ89TtWplbVoI8QberBpIYzpdLmq37UQd24tMGzOaPw9Dk4+7UK/0q4IHQGdcgDofFOLsytnsu25KpUbNqZA/U/wThRAZVIEqrfmkhT0H547jlxmHcKjzMR0/KB2r4AHQUbRmU2xu/cni9dewLdOIRjXyx2khhEh/maQi0OHgWJLaLepQ2NwIq1xlqV2lKHYW2nbm5LSOIk/TOWxY8T3tG5fG2ljbRgghks/ctgDlazanenFrTAy5qFivMoVyx/3ABWCV25ooiwYs3rGSAZ0aUdQhkxxehchCMtWotChQiPxWRvg/uo+fXpsFZXjMqtludB7fmdxS7Agh3hGdUQEKFbQiNNidx54JHHxQXP3jd8JbjKV5oUx1WBUiS8lUo9PIrCBOeSwJeHwfj0htFm5t+Q1P54E0lVNaQoh3ygynQrlQ6gmP7sc/+IQ93c7Sk5Xp0zE/Om1SCJFhZKrqQGfiiFOBbAR6PMQzJG4u3GcPC/cXo0+XwnLQEUK8Y8YUKpwfZXiK+/24Bx9l8GPLzH00HPy5zDALkcFlrqJHZ4+Tow2RencePoz9aSuQHbO2U2NAd/LHXV0YT7D7NW55ZfgL1oQQGUwup4JYG0Xy5P4DYp/genzgN84X6MdHJV5z8BFCpLtMVfSACYUK5UMZHuN+PyIm6nn0d1xsetOxnGmc1lqGyOtM+fJDfv/bT5sSQogkWTg5kc9c4fHgYUzRExV0gnkbs9OnTzliT/KEe7sw+8eeNChXkiafDuXHMT8xZswYRo3oy+edB7LuhC/y0UuItJfJih4dTkXyY6z8efzADwXoQ88yd5WBXv2raC4h1VJcWDubTVee8vj+q4OWEEIkh4VjIfJZ6PB7+IBAPUA4B39bTZGe31JccyWpea46fPNtPZSHOR2GTWHizxP4+eef+WXafEY0fMTgdv3Y7xV3GyFE6stkRQ9kdyxILhPFkwf30RPFsfnLyPPFIMpm07aMK+ThX+z2/4iuzvY8fRh3eloIIV7HyKIgBXNbEOB+nyeR4H9hETtCO9OtVsIHH58TLty3rI5zBbNYUR15HfNDwGO8nkfFigsh0kKmK3osHQuR19yA1/0H+LotZbN3e7o3zKFtFodSnmxZ9ZDWPZtSvJAdfg8fECBVjxAiBYxMHHEqYEmgxwOehFxj4fyndB3akHi3CwMgijNHz5LLuQHlLF9F9UEXmDN7D5W/GkaroknPTQsh3r1MV/SY53GiQA4TvB8eYdqsO3T6rhnZtY007u9eRVDNr6hsbUahQnkJdE/4knchhEiMzig3hQpaEx7+gL+nzELXZgjV7bStohn0tzh+0h1zCy+2//EHa1YtYerYQfT8ZgG5vt7O1oXtsZcrvYRIc5mu6NGZFcQpX3aeXNyDadPB1M2V9D8h0v8gG86VoXNT++g1QYULEub5AM9X66CFECIZzHAqnAeD/hIXHzehV+tcid4eI8LrJKdu5KHD15/TrNkHfNDiIz7r/CmVst1i/96z+MiHLiHSRdIVQwZkZOyEU8FsVG49nqGfFkj0oBMthH0L13LH9xQzxv3EmDE/MefAA3QRj3nkLufThRApoaNQoQLY5GzNyEmf4ZDETI3PCRceZK9Fo7oFyZs3N3nz5qFImXr0Hd+V538NY8HWAO0mQog0kOmKHrDlo6FzWTj3y9feCMz3zCquOY1h8ayJ/PzzBH7+eQLjx/yPEhZP4lzyLoQQyVHggwGs3DyX1oWTOnRGr+fJXb0hZWOt5wGI8PbGP8oMc4vXHLyEEKkiqZGbQeko0bAdzgWT3nV9kCuLNhvT6bO4d2g2y12QvFYBPH4QGCsqhBCvZ1mwHm0aJD3DHL2ex4OKDeoR+7quCD9XpgxfhNUH4+n14etWIgohUkPSlUOmFI7L2h/5rPlnrD7sysUbr06eh3u5MPfnddyJ0nF841h+23Q1zpZCCPE27h1Zzpihw9lwPoyH55cxftx4xo0dw/DB/fmqxyTCmi3k7w29KCgXbgmRLnRKKbkxaCIcHR1xd3dn1649tGrVQpsWQohUY25uTkREBGfPnqdq1cratBDiDbyHMz1CCCGEEPFJ0SOEEEKILEGKHiGEEEJkCVL0CCGEECJLkKJHCCGEEFmCFD1CCCGEyBKk6BFCCCFEliBFjxBCCCGyBCl6hBBCCJElSNEjhBBCiCxBih4hhBBCZAlS9AghhBAiS5CiRwghhBBZghQ9QgghhMgSpOgRQgghRJYgRY8QQgghsgQpeoQQQgiRJUjRI4QQQogsQYoeIYQQQmQJUvQIIYQQIkuQokcIIYQQWYIUPUIIIYTIEqToEUIIIUSWIEWPeEN6fN0f4RuitAkhkkH6j3gb0n/Em5GiR6SM4Rl7fxtMz97DmLFgLkM+caa8cycW/PsYg7atEFrSf8TbkP4j3pYSiSpYsKAC1K5de7SpLMqgzizqo4YtvKIiXkb0vmpNn0rKwrKCmvHfc017IWKT/pMSZmZmClBnz57XprIo6T/i7clMTxKmTJnKwoWLKF++vDaVJRkiXVm+4iJK+ROqj47pjOxpP+RLSurcWDltPX4v4kJoSf9JmXnz5rNw4SKcnJy0qSxJ+o94F6ToSUKXLp/Tp09vHB0LaFNZkory5PGD8ywcNIXjz1/FLQuXoqiNKT43r/AoMvYWQrwi/SdlevXqSZ8+vcmZ016bypKk/4h3QYoekWzGlk0ZNWsiE5eMpZ7tq7g+yJ+AcD0Wtg7YmMTeQohXpP+ItyH9R7wLOqWULH8Xb+X6qs+p0XMn7SefYOXwclJJixSR/iPehvQfkRJS9Ii3og8+Sb+6rTmddxxbtw+gsLm2hRCJk/4j3ob0H5FSUhSLN2d4xubRQzidcxir18kBR6SQ9B/xNqT/iDcgRY94Q+Ecm9eXpY+/YNP2H6hgp80LkRTpP+JtSP8Rb0aKHvEGFFc2jGDhzY6s+bMfxbO/iB11wVsuGRWvJf1HvA3pP+LNSdEjUuz+/sksvNScObM7ktc0Oqb0N/l7x3m5K6p4Lek/4m1I/xFvQxYyixTxPjubz3ruoFTTauR4WTIrPSH+V3lkPJC/Fn3Ii+OQEPFI/xFvQ/qPeFtS9Ihk00cc5+tKH7LyegDxO40Z3aa5sXJ4MXTalBDSf8Rbkv4j3gUpel7Dw8MTU1NTuSuqSJGw0HCeenpSsEABTEyNtWkhkhQaEoanlxdOjo4YGcvbuEiZ4KAQvH18KOTkhE4WscQhf47XaNOmNYMGDdSGhUjSfwcPUqRIIW7fuaNNCfFaO//5hyJFCvH4yRNtSojX2rR5E0WKFOKZv782leVJ0SOEEEKILEGKHiGEEEJkCVL0CCGEECJLkKJHCCGEEFmCXL31GtWqOWNnZ0f37t21KSESdeHCBaZP/5X58xdgbW2tTQuRpFOnTvH777+xZMlSLC0ttWkhknT06FEWLVqIr+8z7O1tteksTYqe16hWzRkPjyd4eHhoU0K8VuHChbl//742LESy5M2bl6dPn2rDQiRJp9OhlJKiJwFS9LxGtWrOFC1alLlz52lTQiRq//59dO3aBReXkxQtWlSbFiJJf/+9nd69v+bChUvkzZtXmxYiSRs2rGfQoIFS9CRAip7XqFbNmdKlS/PHH2u1KSEStWvXHlq3bsW1azcoXbqkNi1EkjZt+ovPPuvIw4fuODoW0KaFSNLKlavo3v0rKXoSIAuZhRBCCJElSNEjhBBCiCxBih4hhBBCZAlS9LyGo6OjLCQUKZY9e3aKFSuGmZmZNiXEa1lZWVGsWDFMTU21KSFey9rahmLFimFiLF92rCULmYUQQgiRJchMjxBCCCGyBCl6hBBCCJElSNEjhBBCiCxBih4hhBBCZAlS9AghhBAiS5CiRwghhBBZghQ9QgghhMgSpOgRQgghRJYgRY8QQgghsgQpeoQQQgiRJUjRI4QQQogsQYoeIYQQQmQJUvQIIYQQIkuQokcIIYQQWYJOKaW0QZGZ6HHdOpf9N8K0iXh0RjbU/+xr6hQ2BiAywJ37/nYUd8qOTts4Ewt7/oSn/hbkd7TH7I3Lej23T54ju3N18ploc28n3Oc8q+ct59RjU/LkNifIz5sgfX5adOvLJ3XzEf3qvIkwzm+bwaK9IeQ2f4BHji+YOq4F9m/+hPEZgrh38xl5Szpi+cZ/23dDRQbg/iSMXI65sUjnfRFpy+fMKn5ZeRwf3+cUbTmRn74qkfaf4DPQWBDJJy9VpmeMY7m61K3hxNWNUxg9ej5PrKvTqHETGjduQuOG9ahWvhBGPi4smPAD206EAKAMj5jeuTblS9Rn8bkI7ZNmSg+PLWLYoO+ZvmQ7OzdPoV2t6nw5ajOPXl8PxuN/YRad207gQpA28zYUt/eOp3Gd7ly2/R8zFsxk0sTJzJm/lEl9irJtSCM6DNrC00jtdslz9+9hdB52ny8m/UipkLOsnz6PU/7aVm9DcWHxF5QvV4Ivxp1Dr02nkQifU0zp35N+IyazYN6PtK5WhiafTeKE+7vbI6UPwOfZu3u+t6N45vU83f7eGZF1yWZ0/awMDw/t4MJNf9L+k3vGGAviDSjxnghTiz4vosxMqqmllyK1SaWUQbnO66h6TLnx4ucAtW1sa1Wr4SD1n7te0zbzCXVfp9rX7qK2Xg6MiXm5jFFFzc3Vh0MPqfA4rZOmD3dTY5oWVNlNWqtdz7TZN/f4yFhV1ia/Grj8jkroLx76ZKv6uJit+uCbHco/Spt9HX81u0Mh1bDXLhWhlAp6dFrtOXRbhWmbvSX3gz+rhtUaqUmb3ZVBm0wDBv1t9Wv3HmrzldCYWJj3btW5VA7lVO47de55nOZvLODSDPXDzJsJvk5pTR91VY0dMEs9TmhYZ2H6qAtqYLWcqt0Pp1WKh8s7kN5jQbwZmel5j+iSPEelo0KnT8jh/eDFzzloN24nJw7NpnGBzN8NAi8e48jpP5kwZhuhL2J2lSpR0srA1QP7eZjsySw9p5evJrxUybc4zRSfPsSFsd/OIbRYbwZ2KZrgFKtFvnaM7F+HY0v7M2vXM206Scrgg5d3GA5582AEZC9YnRYNi2GubfiWCjT6kUOuBxn1SYF0OSXqf3o1m64YiPAPjvl0b56zBYN61MTDbRFL1j3RbPFm/K5dx/sNZ9zeNX3QdW7eyyA7k6Ho0qUPvpTeY0G8mYSOveI9og++zaVr0edoTKxLYmPsoW3yXrCr9zWTfxzN0CHNsXgRC/f0xDfMgJ1TEXKaajZIRMD11ewKbs//KlhrU2/l9uZ5bLgaTLU27Slsps2+pKNc21aUNXdn48xVeERp80l5UQKo9/vwG/7Ug2tnVzFl8naiT9QC6ChauhiWRmHcuXojTvs3YYi8wfLFewgzpP1Jk/j0uC5fznk/gzYhhHgDspD5vRHOkq5l6L/BnvnnTtKzQvTq28DLM5lyoB0TBxdDBygD6IwUruvHs3jPLXz9s9Nl0nw6lHu1WlcfdIM/567lZrgxkUE6qrZrh+X1/Vy4d4nTd+oxvr8RK1Yfx9vXn/wNx/DrwKoYGdzZMHka/1734nlAIQYtn0oDB/A+tYwJy44lq+3DQ/OYsvYU3j6hNB24mPqhf7D+iBv+Js34YXwH8qdoQbHi/Nz2NBr5gPE7jjC48euLGKW/zdzR22n641D4owO1+0ey3nsnrWxftQm8u5elG57QtNeXVMyV3M8MgSzoXJn+m4IZ/dcdJrTPrm0QQx9xlO7lPuQv97r8cXsX7V/MwkX6X2H173/ibuaAaegTPMPK8vXwHpR30OF//k+m/HGYo5vW4uP4GW1r58KqQHMGDWiGnTE8vbiBBevcyJ4zOwGPH2JR7gsGdq+JtXH06zN+6VG8fZ9T8bPf6V3lMuu2XiQgzAsP/0J8Oaw/NQpGz3kFXd/MhNm7eOT9jMItJjGpd1lUsCu/jV7Cuac+qHyfMX1cVY79sZVb/qF4PPCnSqdhfNmkQJxPV6/rXwvX9qZAIq+1PtiNNXN3YNvka9pVt4/5hH1n9f8o/9VftP3JlY3jKmq2iivC5ywrl+4jxMoWM/QYdFHcP+/P/34fg+XRecz8dQ6rD9ynZMMetHS2xcgoB02+HEnL0kHs/H0CW8484XloBX5Y2pV7q1dz8ro7+T/4nu865OfAop9Yd+IJz/zN+GTMYj6vZkrIg91MmbaFu96+GBXpxrwp7cnxYsdVpAd7li9k/20D2bMZo/SmlG/Zg0/r5SPs/gFmz/iVeUv3EZyzAV06VSebzoj8zt0Y2KksfikYW+9uHLbk2rKf+PP4Y/wD8tFn7jhyX1jH7st+BHu6Y1yyM0P61MfC5zR//HEY71A/Hrmb0fKb72hbKe4YTKpfvhT8+BhLF2zjCdmxMFZgUoj2vb6iSj5jDPpLDK3ZlPvN/2FJdz82bLtMQLAHjzX9NloIZ7etZK9bECbGkXg9CqRmt+F0rOEQ04fediy87ONJvaYv2/i47WTN9stEGBsT6uOOScmuDOxeI86/XaQS7fkukVmFqcVdiihTkypqgWuACg4OUb5PrqilfeuoL6feinfOOdj3gTq0qKvKY1ZWzXF5teIl0v+o+qZ6EdVrjpuKVEqFee1UHYvnVj3n3FQhXofUzMlb1cNnXurambmqcW5L1bTvPhURvaXyfuim1g6prbKbNFV/PY5eDREZ5J3sthGBnurioV9UDVs79enA8erXdTeVy/TmysKkklpwNnmrcvRhvurW5ZPqr0VDVbPa7dXvu5N7vt2gXJeNVsuOR68JurqwvbKOt6YnUm38toIy1pmpbr/ejp1Ikj7qihpSw0EZG5dSs469WouSEH3UJTWkur0yNi6hph+Obhvm9a/qWa2I6jnr8ou/X5Q6MfsjVb7OBHUtRCl9yDP16IGLGlgzp2rSe6u6/9BdPfEMVFFKqTu7R6gKji3UH5ejn0sfcUONa1FCdZ5wSkW8eH3cTs5VTfNlV636/qIm/vqv8opQSqnnam2fCqp8kzkxa0kMYc/UDdelqpWjlWoz3CV6HYU+RD2+fVpNaFdYFarZV/0ydro68Sh6gwf/DFBOdk3VhpuvFqMkp395pHDtisHgqWZ9XEhZZq+v1lxJemOD/qH6tUMrtfTiq9VOYT67VZeqXdTBIKWC/Z6qB3fXqbb5s6sOo4+phw/d1SP3p+p5mFJKGZS/x03194QWyt66lfpu/Fj1z003NapBLlWowmillFLPPe+p/2Z/omxMC6vJ+0Oif2f4c3X3yj+qZ1U7VabJ78r3xQIUffh1NbVDaVX3s5Xq4Ytu8ezKItW0RH21/EKEMoT5q8fu99XvXYqrItVGq7P33dWjh0+Up1/0WEjJ2EpJ26THYZh67nlX7ZvzqcppVlMN/WWcWvyvu4pSSkU826s6F8+lPhu3WE35aZW6+VwppQzq1MxWKn/h3up0QPS/USWjXyqllL/bMvVB0RJq6MobL2IR6vjcjqpy3UnqTrhS+qiLalC1nKru/0aoCdMS77dKKXVjfS/VpMMidffF3zng5lLV2KmUGr3hcczx4a3HQjJeU6WUCn26WX1S45OYdWn6iDtqctsSqtGXG5RPeixOymKS+1FVZBJ69ZgNU4cwaNBABg0eytSNF0hoYjybvRNV61Uij+ZUy90tv7PuQhFaflIKE8A8VzPa1LNh35KVuNs0ZMjI9jja5qJkpTqUzW8Za0sTcjqWoUmtEnHWwphkz5nstqZWuSlXuzYlHPS4XclB544lcO71O7v3rOHzSomeE4oj3PM6p1yvcv9pFNmzR/Do1l2eJeM0UfDtP/nbuxWf17HSpmIxoek3Yxg1fDLfdC6iTSbOEExwSBRg9Jp1VwDG6HQ6FMGEBBmAELaPH86+sE4M71ee6LN0xlT76ksc78xnxd9+GFnaUqBgLqzMjDDP7kABxwLky22FCjrI2EELKdJlAp3KR5/0MzItyVfd63Dot1kc9Yt+fUo516NcfnNungrl428/IJcpgDV165bn0fEDXA6O3jOduS0lKtejvGOs19LIkvzFnKlTuSDeV85g17IftQpGT9Pkq1ub4uo0LsdeXQKXnP6VN5FZnsR4ufzO/H/D6Tp5Pp1jzVgmRB9+jsMnAjCO1fHMHZrSvkVBjIFsdnkokN8eC2MjLK1yUcCxAAUL5MHaHECHTd4S1K5dDrPwkzzL8T9alijD4EV/sWbtUACscxemSt1K5I61Gzoza4qUa0q1EjleBVGcmT+UqfudGDK5K44W0bF7B3ficvc2Dx5EojO3IX+B/NhammBiloO8BQpQ0DEfue2ix0JKxlZK2iY9Ds2xzl2EGvUq42DsxoPQFnz1QQGMAVPb2tSsYM6+eXuo2LsrJawBdJSoUx1Lz2OcvBq9sC4qGf1SGW4zc8AYnhYbxPCuJTEFlMGD/duP8+j2LTxjLpcy8OiKEZ/0T7zfgp4brhc4tn0Wf5+LvpQzR4kudGti4K/5m/B+8VxvPRaS8ZoChN4+h+uFv1m+4ixRgJFpUb7s1YQrGxZw4JFcB5bapOh5z5joHOk6ZiFLlixhzYa9HFjeixzGibzTxnsHVgQ/D0SPKWYxN7gxxjKbOREBzwiMPR6NjDFJ8HkTiKWk7QuFqtQgrwmY2pSkUdMKyZ72tXSqQ5evejD0pzksm1KXf0a2pHP/v0nq6mNleMja5U/o0LduzHqgxNiX/5QJU4dSu2Dyh47OOCe5HMxQPOf5s4RK0FeU3p9nAREY6XKSM48JUSFH2fT3LfJXcqZIrLrPxKoc5YrquXLmWuzN4/A5vJndd00pX61cnDc1+wrlyBV2gUvXXl7Lr0OHjnwVq1Mi1jHc3NwMDCGEvFo8k+jiUZ0OsluVp3KlV0+gMzPH3NhASPDLJ0hB/0qmcN8DjOz/J7VH/8WsAeVJuuQBY/OyVClzj/4Na9C571gW/XmAG08NfDz2Z+okftYxHh15qFizEEZArtL1qV/RPiZnZGyS8CL4WOPNoL/GxnWncCjflNpOL1vrqNx3LddvX2HMR9li2iYpJWMrJW1fSHQc6nRADspXr/iiEAcww9zcmJwla1E576vxYWxmgakulJCQ6L6fnH4ZePUvNrv4UKlpc3K/aKQzcmLkxtNcuLKU2jHdTIdTtTqv6bfGtPzxT/bt30yPWhaAnudeHkQYmRHq501AnH735mMhua+pXe2R7Ni3nzmj6mAChAf54BWmw0w9w8/vDQaBSJHkH7lFpuRQoSrFbBI8BCdAR8k2HajqcJMLZwIAUIbHXL3hR6V2n1A29oeaVKXDIXeehN84UsC+8id8WCkbh5aNYd3ZxC7fUlxdtxyjFn3QLDl4Z3RGTtRwdkJn8OGOm0eS9xSJ9LvJ7aeh2OasSuVSZkT6POCRfyS+Dw8we/oMpr94zJi1k1zthvNFm6Lap4jhdf8RgQYDl/77PWa76dNnsGgXdB0zjHqxqyjA3DL+C6yUQqmkC7WXjM0tiT8fp6KfA955/9KHXmX61+Ow+noLi3+oQ3JqFp1RCUauWsWAD7Jz+I9f6NulGRWKleXrX48RlIL3GyOdA7nyJHN1fAJUxB1uPwwim0Nu7GPPChlb41TY/q37/ruR9DjUYYZFtvgFk4m5ZfyrBlV0PyCZ/TLk9h0ehRvjkDt3nDcpM9uCFMwZd4+S029NbRyxCd7PyJ5f0W/IOJb9dZi7ftFFf0LjMTnPqZXs19QoBwXzhbBxQi+69xnClHmbOXnDG71KZGfEOyVFz3suW5EvGdqrcBKf5eLKVrQJ7T+tiduKgYycMJnR347gUdVZLJ7a9LWzILw4MCRXUm2NjFLSNcP4b24PWn7Yn103X53L0hnnJ18eCyKjbnD1QvSbrJZSXpy+cJ2DywbQrduXLx7dGLb4BMHqIjP7dqNnrznazVLIhPqd2lHcQs/FQ/+R1Ie5p0cOcykQqnzSlapWYGJjh425EbmKNGfwsO8YFusx4vvhdG6UT/sUMWzsbDDRmVL5gwFxths2bDgjRvTEOX9K/sbvxtv2r5eU3p1lQ8di+Hw1s/tVwhxQ+jscO/ZY2zQOZXjCg0BnflnnwhNfH66d2skvvYqwc2J3ft+X8J0olf4m/+y8prkBnTEp6qIvir8YxlZYZTchMiSEsMSHQQIU5/7ZxYszJYlKamxpJdU2ZeMweZLTL01yWJHdyEBo3KmVNxTE3ontaNlrL7UH/M78WT8ztG9X6hS10TZ8O8l8TZ+enErzuj25V+hb5i+axdjvv+HTxiXkruJpRP7MIo6Q27twzzmctZtWMv67Ify8YAPLp32GU7wPPmaYmhnF+2ji4/0sgTVEKWmbckr/gD1/7uDfPWv570zMiXyUCiQoJAojYwfyFnx1ukBFhRHy4syOTpeHHr+u58/Vq1gd81jBwBaFsdRVYuiC1SxbOihmW1AEB0Wk+AOZrXM/fuhajpsHFrPlUrg2DURfPbZi8V6Mc7dnyPDGmAMm1nVpWisPntev8lSzNkkfcoGdu+7FDcaSu35TqtsFcfvq/Xh/Z9+zuzhyN4nqK5Ukv38lThn82DZpIsGt5/BjxyIxn6CDbvzDgQuJzehF04cc55cfN/FMDzpTG0rVaM2wOdv4tWsOrp9zf9HKCGMjHbwoBgxRjzh/1iPe3zAxOjMTTI10cbq7Ur74+L3aN2MzZ5rWK4i321muv+qyAOhDLrFn38OYn42MdbFmy6K4e/4cvjF9ISVjKyVtU09y+qVN9SbUymfC9XPn0I4W3/N7OfEg+X03zOMvJs86Qp1eE/lf1VfrqsLCol8Pg/Ji9ZzVeCX/KROUnNdUKU/W/DIX7/w9+P7bqrzs9oawcCIMAAZubZjHzvvav4x4V6ToeW8o9HoDCj1R+uS9JasoPXplwGB4NcCMrW24unEs01f+xZ79+9i9az+Hjl3GSzOIjYzz4FggOyEBgTEHLkPkDXYdvImRLpKI8Ff7kJK2KD0Gg0Kv1ye7sNAZF6VR4/K0+XYVwz579ekt9NE+Dl7wo3ClnnRsHF30GPRujGpShEJFu3LAO/EDi15vAJ0efZwDoeLo1BbktS/CqA1esROvpdM50GX6UgbV92FKr+85qlmwqJQvO3/ux/zzhflp9QJaFooemjpdfnqM7Y/NvdWs2usT628SxYmFC7ljkfPFExiI0isMsXbY0vF//DikLsdXzeGkz6t/qyHCjfnzXbDK9aJcMET3GX3cf+yL18BArO6BIgq9HgwGQ6x9MaCP0qP0+rhvYno9UYboti8lt38lLpSDM7sz+VAkjw/PYcTwEQwfPoJhQwfx7eBNGBfNo91AQ+HtspxtlzVvpTobipfPD4CRiRNOBczxevIYAxDh/RgT2+iFzgDKYMCg9OgTGWfmeZ3Ilz2UwOevqtTA67s5fjsEQ2Q40ZM0Ofhs5FBKq50sW3Ej1iySnvOrlnBdZ/fiZxMKF85HiOdjvKNAKW+eRtnw8sxaSsZWStq+bhwa9FHoMaCPip3Vo48yxOsHhqgo9KiYfpScfmlq05rvR37Aze2/sf3Gq2ktQ+Qdli86gpm9cbL7rT40mJAIhbGxScyMd1SAKxduhWCIjCDSEITPs4jo1zeZz0mCYyEZr6kKIyg4EiNjE0xi3n2DOON6E6WLJCLCQICPH/o3P3MqXsN43Lhx47RBkZlE8e/cQfwyfznbD98kWD3n2plznD2xnxMPHGhU0zGByjaSf38fyE+zt3PpqQe3L1/CS1eaRlXyYGRuT8CJ35i49B8OHdjDzu1bWLNsNlN/XYTLbWtqN6+KvSmAJUUKG7Fj+RruGdsR8ugU2zacpmBla/bt+ocTx87jSWkaVcuLUbLalsTRaw3fjV7E4Ws+PLh7novnXAh0aEYlp9cuT6VoLWe8/13A1jPPMTM3xf/BIWYM/Ynz2Tozf/1kauZ+8VdQ/pzevolLQWXp9HWbeDMMd3ZPY8Qv8/lr71l8I71xc73I2VM+tGlVDYCnl3ew5ehz6n32NQ1KpWB6AjAyL0Djjq2xfbyRUaPX4GOSg2wWivuuu/nt+36suOnMzHXL+bKOXZzTkdny1+XDejrWTJrIf3eCCXh6hR1rl3PX8RsGdXAi6NRi+o34lT2nH/HwwRUuXDzJE6Nq1ChlR7G6bSir9jBx0hYeh4Ty8PK/rFl+HOdvf6SJkxmeR35nwA9z2H/uCU/cr3Lhoge5qufnvynDmbTmIE8Cn3L93AUehRejXPg2Bnw/g39dH/Hg3mXc7uooWyuEBYNGsmTXGTz8H3H5/CUCsztjdmE6w8es4uRDfx7dPseV6+GUa1qVnNmS278S5nt4DC17rOT67XOccHHB5cXjxMlT3HhYiO7je1LBLn6Pf8kQ6cbGNVd47n+Jqw8D8fe8wd4/53LWrDsjv6lEdiPQGTlQskgIa39fw2MTA667H1Kre3uK5PBl8+TBTFi8hzvPPLh5/jKuxx5R+INa5InVRY2zFSWf0VmW/XEWM1u4dfJv/j7tQBkbVzbvPszJ83fIUbo5lcvXoFVjO3ZMH8161+eEPb/Hf3+t4UqOzxn4WdEXC4R15C5TGPfdc9l53ZjnF/cQXvZLPihn/aKPJGdsvctxGMI/Mwcybu4Ornr5cvfqBW48yU6FfFcY/92PbDxyG4+ntzh36QZmxWpw78+hjJ27EzcvX+5dOcf1pzn4sEEZir6mX4KOgtVa42x7mkmj5nM9IArvOy5sXvMfxbv9QCX3xcnut00bN6CQ+R3WrtzIEyNrgt1Psn3bQxr2a82DzQv594oXRet2pbTfGgYm8zkTGguVmlUhT55qSb6mZjpbSpYw4cTfK9l3XYe54TGHt20nvGpv6uj/Zsm2iwTnqk2nD8thlXg3Fm9Bbk4oYiiDO/O6deJK9XnMGlQ5ZuoVQyQPL/zFqF5D0XXez6oRsW7EpQ/gztWb+EU6ULpSESwDH+D2MBTbXHnIk9sOi1hvBilp+2YUT68f4+hpN7zCbChdqRa1qxcmWwY8eEQ8v8vR/ce4/ugZxjYFqFirKbXK2CVQoMYV7H2bGw8iKFi6DLmtkrtSCyASjxtXeRqVhzJl8qXL+oE36V/vnCEAL19LcucywvPWRe74GJG/WDkK545faUUFPeHqdX/ylylLruSsktYI93/EtZseGDmUoFwxO/zuXuZpeA5y5clDLnvLOAuEQ3zucO1eGPlLlSWfdQKvqyGEe1euE5mzDCXjXHYeLSVjKyVtU19y+mUUT29e4UlETkqXLfjG49kQ7svNa3cJMXOkXNm80evAIgLwCbYg14vbALxLSb+mkXjcusYjf1OKlC3zon9F4ecZTI48NrGuiBPvmhQ9IkbY0xW0rLqXcTfW0yj2LUUAUJyf3ZZvT3/FoT87JnCVjhBJk/4lhEhvb1gzi/eRea46NK54g7/Wub1Yd/BKhL8ra/9+RIOPasunEPFGpH8JIdKbzPSIOPQB11g183dOeFuRP48DOSwVQf5PefAwghqdh9OrdRF5UxJvTPqXECI9SdEjEmeIIiTMiGxvehJdiKRI/xJCpDEpeoQQQgiRJchHLCGEEEJkCVL0CCGEECJL+D/UVeJatEgjGQAAAABJRU5ErkJggg==)"
      ],
      "metadata": {
        "id": "HDXNKVkvg-Eb"
      }
    },
    {
      "cell_type": "markdown",
      "metadata": {
        "id": "c06d7f9e"
      },
      "source": [
        "## Bereken reactiekrachten\n",
        "\n",
        "### Subtask:\n",
        "Bereken de onbekende reactiekrachten (VA, VB) voor de gegeven balk met de verdeelde last en het moment. Er zijn geen horizontale krachten, dus HA zal nul zijn.\n"
      ]
    },
    {
      "cell_type": "markdown",
      "metadata": {
        "id": "e4402629"
      },
      "source": [
        "**Reasoning**:\n",
        "Import necessary libraries and define symbolic variables for reaction forces and known loads and positions.\n",
        "\n"
      ]
    },
    {
      "cell_type": "code",
      "metadata": {
        "id": "99765e81"
      },
      "source": [
        "from sympy import symbols, solve\n",
        "import numpy as np\n",
        "\n",
        "# Define symbolic variables for the unknown reaction forces\n",
        "VA, VB = symbols('VA VB')\n",
        "\n",
        "# Define the known loads and their positions\n",
        "q_value = 5  # kN/m distributed load\n",
        "q_start_pos = 0  # m\n",
        "q_end_pos = 2  # m\n",
        "M_value = 2  # kNm moment\n",
        "M_pos = 6  # m\n",
        "\n",
        "# Beam length\n",
        "L_beam = 6 # m\n",
        "\n",
        "# Support positions\n",
        "x_hinge = 0 # m (Hinge support at A)\n",
        "x_roller = 4 # m (Roller support at B)"
      ],
      "execution_count": 165,
      "outputs": []
    },
    {
      "cell_type": "markdown",
      "metadata": {
        "id": "653d997f"
      },
      "source": [
        "**Reasoning**:\n",
        "Set up and solve the equilibrium equations for vertical forces and moments to find VA and VB.\n",
        "\n"
      ]
    },
    {
      "cell_type": "code",
      "metadata": {
        "colab": {
          "base_uri": "https://localhost:8080/"
        },
        "id": "7c14bd8b",
        "outputId": "af277aa3-480c-4070-940b-ccd7cd1453ab"
      },
      "source": [
        "# Equilibrium equations:\n",
        "# 1. Sum of vertical forces = 0\n",
        "# VA (upward is positive) + VB (upward is positive) - distributed load (downward is positive) = 0\n",
        "# The total vertical force from the distributed load is q_value * length of distributed load = 5 kN/m * (2m - 0m) = 10 kN\n",
        "eq_vertical = VA + VB - q_value * (q_end_pos - q_start_pos)\n",
        "\n",
        "# 2. Sum of moments around point A (hinge at x=0) = 0\n",
        "# Assume counter-clockwise moments are positive.\n",
        "# VA does not create a moment around A as it acts at A.\n",
        "# - distributed load moment: The resultant of the distributed load is q_value * (q_end_pos - q_start_pos) = 10 kN, acting at the center of the distributed load, which is at (0m + 2m) / 2 = 1m from A. The moment is - (q_value * (q_end_pos - q_start_pos)) * 1m\n",
        "# + VB * 4m (counter-clockwise moment from VB)\n",
        "# - M_value (clockwise moment at x=6m)\n",
        "eq_moment_A = - (q_value * (q_end_pos - q_start_pos)) * (q_start_pos + (q_end_pos - q_start_pos)/2) + VB * x_roller - M_value\n",
        "\n",
        "\n",
        "# Solve the system of equations\n",
        "solution = solve((eq_vertical, eq_moment_A), (VA, VB))\n",
        "\n",
        "# Extract the values of the reaction forces\n",
        "VA_val = solution[VA]\n",
        "VB_val = solution[VB]\n",
        "\n",
        "# Print the results\n",
        "print(f\"Calculated reaction forces:\")\n",
        "print(f\"VA = {VA_val:.2f} kN\")\n",
        "print(f\"VB = {VB_val:.2f} kN\")\n",
        "\n",
        "# Verification (Optional but good practice)\n",
        "# Check if the calculated values satisfy the equilibrium equations\n",
        "check_vertical = VA_val + VB_val - q_value * (q_end_pos - q_start_pos)\n",
        "check_moment_A = - (q_value * (q_end_pos - q_start_pos)) * (q_start_pos + (q_end_pos - q_start_pos)/2) + VB_val * x_roller - M_value\n",
        "\n",
        "\n",
        "print(\"\\nVerification of equilibrium equations:\")\n",
        "print(f\"Sum of vertical forces: {check_vertical:.6f}\")\n",
        "print(f\"Sum of moments around A: {check_moment_A:.6f}\")"
      ],
      "execution_count": 166,
      "outputs": [
        {
          "output_type": "stream",
          "name": "stdout",
          "text": [
            "Calculated reaction forces:\n",
            "VA = 7.00 kN\n",
            "VB = 3.00 kN\n",
            "\n",
            "Verification of equilibrium equations:\n",
            "Sum of vertical forces: 0.000000\n",
            "Sum of moments around A: 0.000000\n"
          ]
        }
      ]
    },
    {
      "cell_type": "markdown",
      "metadata": {
        "id": "e4135762"
      },
      "source": [
        "## Stel de belastingmatrix l op\n",
        "\n",
        "### Subtask:\n",
        "Creëer de matrix L met alle relevante belastingen, inclusief de berekende reactiekrachten, in het formaat dat wordt verwacht door de `computeBendingMomentGeneral` functie (`[load_type_string, value, position]`). Houd rekening met de posities van de belastingen en de steunpunten.\n"
      ]
    },
    {
      "cell_type": "markdown",
      "metadata": {
        "id": "2462d1b2"
      },
      "source": [
        "**Reasoning**:\n",
        "Create the load matrix L including the reaction forces and the applied loads, excluding axial forces, in the format required by the computeBendingMomentGeneral function.\n",
        "\n"
      ]
    },
    {
      "cell_type": "code",
      "metadata": {
        "colab": {
          "base_uri": "https://localhost:8080/"
        },
        "id": "4e65bea0",
        "outputId": "0b9d01a0-eeac-422b-b098-7d00f97e0074"
      },
      "source": [
        "# 1. Define the length of the beam\n",
        "# L_beam is already defined in the previous step where reaction forces were calculated.\n",
        "\n",
        "# 2. Create a numpy array L with dtype object\n",
        "# The format is [load_type_string, value, position]\n",
        "# Upward forces are negative in the context of computeBendingMomentGeneral\n",
        "# Clockwise moments are positive in the context of computeBendingMomentGeneral\n",
        "# Downward distributed loads are positive in the context of computeBendingMomentGeneral\n",
        "# Use the numerical values of the reaction forces (VA_val, VB_val)\n",
        "\n",
        "# Ensure VA_val, VB_val, q_value, q_start_pos, M_value, M_pos are available from previous cells.\n",
        "# Also ensure L_beam is defined.\n",
        "\n",
        "L = np.array([\n",
        "    ['P', -VA_val, x_hinge],      # Vertical Reaction at A (upward is negative)\n",
        "    ['q', q_value, q_start_pos],       # Distributed load q1 starting at x = 0m (downward is positive)\n",
        "    ['q', -q_value, q_end_pos],    # Upward distributed load starting at x = 2m to end the distributed load\n",
        "    ['P', -VB_val, x_roller],      # Vertical Reaction at B (upward is negative)\n",
        "    ['M', M_value, M_pos],      # Moment M1 (clockwise is positive for the basis function)\n",
        "], dtype=object)\n",
        "\n",
        "# 3. Print the resulting matrix L (optional, for verification)\n",
        "print(\"Load matrix L:\")\n",
        "print(L)"
      ],
      "execution_count": 189,
      "outputs": [
        {
          "output_type": "stream",
          "name": "stdout",
          "text": [
            "Load matrix L:\n",
            "[['P' -7.00000000000000 0]\n",
            " ['q' 5 0]\n",
            " ['q' -5 2]\n",
            " ['P' -3.00000000000000 4]\n",
            " ['M' 2 6]]\n"
          ]
        }
      ]
    },
    {
      "cell_type": "markdown",
      "metadata": {
        "id": "04c34379"
      },
      "source": [
        "## Maak een vector x\n",
        "\n",
        "### Subtask:\n",
        "Genereer een numpy array `x` met posities over de gehele lengte van de balk (0m tot 6m) met een geschikte stapgrootte.\n"
      ]
    },
    {
      "cell_type": "markdown",
      "metadata": {
        "id": "2524a3cd"
      },
      "source": [
        "**Reasoning**:\n",
        "Generate a numpy array `x_values` covering the length of the beam with a sufficient number of points for plotting.\n",
        "\n"
      ]
    },
    {
      "cell_type": "code",
      "metadata": {
        "id": "068b3f2a"
      },
      "source": [
        "# Determine the length of the beam from the variable L_beam.\n",
        "# L_beam is already defined in the previous steps.\n",
        "\n",
        "# Use np.linspace() to create an array named x_values.\n",
        "# The array should start at 0, end at L_beam, and contain a sufficient number of points (e.g., 200 or more).\n",
        "x_values = np.linspace(0, L_beam, 200)"
      ],
      "execution_count": 190,
      "outputs": []
    },
    {
      "cell_type": "markdown",
      "metadata": {
        "id": "c09b08d1"
      },
      "source": [
        "## Bereken en plot buigend moment\n",
        "\n",
        "### Subtask:\n",
        "Gebruik de functie `computeBendingMomentGeneral` met de vector `x` en de matrix `L` om het buigend moment op alle posities te berekenen en plot de momentenlijn met de gewenste layout.\n"
      ]
    },
    {
      "cell_type": "markdown",
      "metadata": {
        "id": "2084f7f9"
      },
      "source": [
        "**Reasoning**:\n",
        "Call the computeBendingMomentGeneral function with the x_values and L arrays to calculate the bending moment values and store the result, then plot the calculated bending moment values against the positions with the specified formatting.\n",
        "\n"
      ]
    },
    {
      "cell_type": "code",
      "metadata": {
        "colab": {
          "base_uri": "https://localhost:8080/",
          "height": 472
        },
        "id": "d7511228",
        "outputId": "c97a4337-0022-4894-d67a-f0108a639b58"
      },
      "source": [
        "# Ensure x_values and L are available from previous cells\n",
        "# Ensure L_beam is defined for the total length\n",
        "\n",
        "# 1. Calculate the bending moment using the general function\n",
        "moment_values_calculated = computeBendingMomentGeneral(x_values, L)\n",
        "\n",
        "# 2. Plot the bending moment diagram with the desired layout\n",
        "plt.figure()\n",
        "plt.plot(x_values, moment_values_calculated, color='red', linewidth=2) # Red line, thicker\n",
        "\n",
        "# 3. Add vertical red solid lines from y=0 to the curve\n",
        "# You can choose either 0.3 or 0.5 for the spacing\n",
        "spacing = 0.2 # You can adjust this spacing\n",
        "line_x_positions = np.arange(0, L_beam + spacing, spacing) # Use L_beam for the total length\n",
        "# Find the indices in x_values closest to the line_x_positions\n",
        "indices = np.searchsorted(x_values, line_x_positions)\n",
        "# Ensure indices are within bounds\n",
        "indices = np.clip(indices, 0, len(x_values) - 1)\n",
        "line_y_values = moment_values_calculated[indices]\n",
        "\n",
        "plt.vlines(line_x_positions, 0, line_y_values, color='red')\n",
        "\n",
        "# 4. Fill the area under the curve with transparent red\n",
        "plt.fill_between(x_values, moment_values_calculated, color='red', alpha=0.3)\n",
        "\n",
        "# 5. Find and display maximum and minimum values\n",
        "max_moment = np.max(moment_values_calculated)\n",
        "min_moment = np.min(moment_values_calculated)\n",
        "max_index = np.argmax(moment_values_calculated)\n",
        "min_index = np.argmin(moment_values_calculated)\n",
        "max_x = x_values[max_index]\n",
        "min_x = x_values[min_index]\n",
        "\n",
        "# 6. Mark maximum with a green circle and add text label\n",
        "plt.plot(max_x, max_moment, 'go')\n",
        "plt.text(max_x, max_moment, f'Max: {max_moment:.2f} kNm', ha='left', va='bottom')\n",
        "\n",
        "# 7. Mark minimum with a blue circle and add text label\n",
        "plt.plot(min_x, min_moment, 'bo')\n",
        "plt.text(min_x, min_moment, f'Min: {min_moment:.2f} kNm', ha='left', va='top')\n",
        "\n",
        "# 8. Add markers and labels at each meter mark\n",
        "meter_marks_x = np.arange(1, int(L_beam) + 1) # Positions at every meter (1, 2, ..., L_beam)\n",
        "# Find the indices in x_values closest to the meter_marks_x\n",
        "meter_indices = np.searchsorted(x_values, meter_marks_x)\n",
        "# Ensure indices are within bounds\n",
        "meter_indices = np.clip(meter_indices, 0, len(x_values) - 1)\n",
        "meter_marks_y = moment_values_calculated[meter_indices]\n",
        "\n",
        "plt.plot(meter_marks_x, meter_marks_y, 'co') # Mark meter marks with a cyan circle\n",
        "\n",
        "# Add text labels for the meter marks\n",
        "for i, x_pos in enumerate(meter_marks_x):\n",
        "    plt.text(x_pos, meter_marks_y[i], f'{meter_marks_y[i]:.2f}', ha='left', va='bottom', fontsize=9)\n",
        "\n",
        "# 9. Add labels and title\n",
        "plt.xlabel(\"Position x (m)\")\n",
        "plt.ylabel(\"Bending Moment (kNm)\")\n",
        "plt.title(\"Bending Moment Diagram\")\n",
        "\n",
        "# 10. Add a grid\n",
        "plt.grid(True)\n",
        "\n",
        "# 11. Show the plot\n",
        "plt.show()"
      ],
      "execution_count": 191,
      "outputs": [
        {
          "output_type": "display_data",
          "data": {
            "text/plain": [
              "<Figure size 640x480 with 1 Axes>"
            ],
            "image/png": "[encoded data removed]"
          },
          "metadata": {}
        }
      ]
    },
    {
      "cell_type": "markdown",
      "metadata": {
        "id": "baa04c89"
      },
      "source": [
        "## Bepaal integratieconstanten met `computedeflectionbc`\n",
        "\n",
        "### Subtask:\n",
        "Definieer de randvoorwaarden (BC matrix) voor de gegeven ondersteuning (doorbuiging is nul bij de steunpunten op 0m en 4m). Gebruik de functie `computeDeflectionBC` met de vector `x`, de matrix `L` en de matrix `BC` om de doorbuiging te berekenen. De functie zal intern de integratieconstanten C1 en C2 bepalen. Noteer de waarden van C1 en C2 die de functie berekent (de functie print deze als het goed is).\n"
      ]
    },
    {
      "cell_type": "markdown",
      "metadata": {
        "id": "38e1925b"
      },
      "source": [
        "**Reasoning**:\n",
        "Define the BC matrix, call computeDeflectionBC to calculate deflection and determine C1 and C2, and print the calculated deflection values.\n",
        "\n"
      ]
    },
    {
      "cell_type": "code",
      "metadata": {
        "colab": {
          "base_uri": "https://localhost:8080/"
        },
        "id": "0e7348e4",
        "outputId": "e6306cc0-c14a-4f37-c15f-e43320ff4c58"
      },
      "source": [
        "import numpy as np\n",
        "import matplotlib.pyplot as plt\n",
        "\n",
        "# Ensure x_values and L are available from previous cells\n",
        "# Ensure L_beam is defined for the total length\n",
        "# Ensure computeDeflectionBC is defined\n",
        "\n",
        "# 1. Define the Boundary Condition matrix BC\n",
        "# Supports at x=0m (hinge) and x=4m (roller). Deflection is zero at both supports.\n",
        "BC = np.array([\n",
        "    [0, 2], # Deflection (type 2) is zero at x = 0\n",
        "    [4, 2]  # Deflection (type 2) is zero at x = 4\n",
        "])\n",
        "\n",
        "# 2. Calculate the deflection using the computeDeflectionBC function\n",
        "# This function will print the calculated C1 and C2 values.\n",
        "deflection_values_bc = computeDeflectionBC(x_values, L, BC)\n",
        "\n",
        "# 3. Print the first few calculated deflection values for verification (optional)\n",
        "print(\"\\nFirst 10 calculated deflection values (EI * u_z):\")\n",
        "print(deflection_values_bc[:10])\n",
        "\n",
        "# 4. Print the last few calculated deflection values for verification (optional)\n",
        "print(\"\\nLast 10 calculated deflection values (EI * u_z):\")\n",
        "print(deflection_values_bc[-10:])"
      ],
      "execution_count": 192,
      "outputs": [
        {
          "output_type": "stream",
          "name": "stdout",
          "text": [
            "Geval 2: Bepaalde C1 = -6.16666666666667, C2 = 0.0 op basis van doorbuiging op x = 0 en x = 4\n",
            "\n",
            "First 10 calculated deflection values (EI * u_z):\n",
            "[0 -0.185897843144147 -0.371606233046842 -0.556939504154124\n",
            " -0.741716122934744 -0.925758687880166 -1.10889392950457 -1.29095271034486\n",
            " -1.47177002496062 -1.65118499993420]\n",
            "\n",
            "Last 10 calculated deflection values (EI * u_z):\n",
            "[2.48582948242044 2.47615800947784 2.46466840062961 2.45136065587573\n",
            " 2.43623477521613 2.41929075865085 2.40052860617999 2.37994831780338\n",
            " 2.35754989352117 2.33333333333334]\n"
          ]
        }
      ]
    },
    {
      "cell_type": "markdown",
      "metadata": {
        "id": "12bfdf6c"
      },
      "source": [
        "**Reasoning**:\n",
        "Plot the calculated deflection values against the positions, add labels, a title, and a grid as requested.\n",
        "\n"
      ]
    },
    {
      "cell_type": "code",
      "metadata": {
        "colab": {
          "base_uri": "https://localhost:8080/",
          "height": 489
        },
        "id": "66d3abee",
        "outputId": "26a3cd07-5880-46ab-d720-035091668b8a"
      },
      "source": [
        "import matplotlib.pyplot as plt\n",
        "import numpy as np\n",
        "\n",
        "# Ensure x_values and deflection_values_bc are available from previous cells\n",
        "# Ensure L_beam is defined for the total length\n",
        "\n",
        "plt.figure()\n",
        "plt.plot(x_values, deflection_values_bc, color='blue', linewidth=2) # Blue line, thicker\n",
        "\n",
        "# Add labels and title\n",
        "plt.xlabel(\"Position x (m)\")\n",
        "plt.ylabel(\"EI * Deflection (kNm^3)\") # Units depend on L and BC values\n",
        "plt.title(\"Deflection Diagram (EI * u_z) with BCs\")\n",
        "\n",
        "# Add grid\n",
        "plt.grid(True)\n",
        "\n",
        "# Add support locations with markers\n",
        "# Supports are at x=0 and x=4\n",
        "support_x = np.array([0, 4])\n",
        "# Find the deflection values at the support locations\n",
        "support_y = computeDeflectionBC(support_x, L, BC)\n",
        "plt.plot(support_x, support_y, 'ro', markersize=8, label='Supports') # Red circles for supports\n",
        "plt.legend() # Show the legend\n",
        "\n",
        "# Show the plot\n",
        "plt.show()"
      ],
      "execution_count": 193,
      "outputs": [
        {
          "output_type": "stream",
          "name": "stdout",
          "text": [
            "Geval 2: Bepaalde C1 = -6.16666666666667, C2 = 0.0 op basis van doorbuiging op x = 0 en x = 4\n"
          ]
        },
        {
          "output_type": "display_data",
          "data": {
            "text/plain": [
              "<Figure size 640x480 with 1 Axes>"
            ],
            "image/png": "[encoded data removed]"
          },
          "metadata": {}
        }
      ]
    },
    {
      "cell_type": "markdown",
      "metadata": {
        "id": "85e02579"
      },
      "source": [
        "## Bepaal integratieconstanten manueel\n",
        "\n",
        "### Subtask:\n",
        "Bepaal de integratieconstanten C1 en C2 manueel door de randvoorwaarden toe te passen op de algemene vergelijkingen voor EIα en EIuz (vergelijkingen 3.2 en 3.3, aangepast voor de algemene belasting) en het resulterende stelsel op te lossen.\n"
      ]
    },
    {
      "cell_type": "markdown",
      "metadata": {
        "id": "b6cea7fa"
      },
      "source": [
        "**Reasoning**:\n",
        "Define symbolic variables and the general equations for EI*alpha and EI*uz including the loading-dependent parts and integration constants. Then, apply the boundary conditions (uz=0 at x=0 and x=4) to form two equations. Finally, solve these equations for C1 and C2 and print the results.\n",
        "\n"
      ]
    },
    {
      "cell_type": "markdown",
      "metadata": {
        "id": "9da1b473"
      },
      "source": [
        "**Reasoning**:\n",
        "The previous code failed because I used the symbolic variable `C2` directly instead of `C2_sym` in the equation definition. I need to fix this typo and re-execute the code to calculate and print the manual values of C1 and C2.\n",
        "\n"
      ]
    },
    {
      "cell_type": "code",
      "metadata": {
        "colab": {
          "base_uri": "https://localhost:8080/"
        },
        "id": "ezsDbHJ9iooT",
        "outputId": "be9ec3e3-d9ce-4268-f838-7ad047ecafe4"
      },
      "source": [
        "from sympy import symbols, solve\n",
        "import numpy as np\n",
        "\n",
        "# Ensure L is available from previous cells\n",
        "\n",
        "# 1. Define symbolic variables\n",
        "x_sym, C1_sym, C2_sym = symbols('x C1 C2')\n",
        "\n",
        "# 2. Express the general equations for EI*alpha(x_sym) and EI*uz(x_sym)\n",
        "# These equations include the loading-dependent parts (evaluated using the numpy functions)\n",
        "# and the symbolic integration constants.\n",
        "\n",
        "# Evaluate the loading-dependent parts at the specific x values of the boundary conditions.\n",
        "# Need to ensure uz_C1C2 is defined in a previous cell.\n",
        "\n",
        "# Boundary conditions: uz(0) = 0 and uz(4) = 0\n",
        "\n",
        "# Evaluate the loading-dependent part of uz at x=0\n",
        "uz_load_at_0 = uz_C1C2(np.array([0]), L)[0]\n",
        "\n",
        "# Evaluate the loading-dependent part of uz at x=4\n",
        "uz_load_at_4 = uz_C1C2(np.array([4]), L)[0]\n",
        "\n",
        "# 3. Formulate the equations from the boundary conditions\n",
        "# EI*uz(x) = uz_C1C2(x, L) + C1*x + C2\n",
        "# At x = 0: uz_load_at_0 + C1*0 + C2 = 0\n",
        "eq1 = uz_load_at_0 + C2_sym # Use C2_sym instead of C2\n",
        "\n",
        "# At x = 4: uz_load_at_4 + C1*4 + C2 = 0\n",
        "eq2 = uz_load_at_4 + C1_sym * 4 + C2_sym\n",
        "\n",
        "# 4. Solve the system of equations for C1_sym and C2_sym\n",
        "solution_manual = solve((eq1, eq2), (C1_sym, C2_sym))\n",
        "\n",
        "# Extract the values of the integration constants\n",
        "C1_manual = solution_manual[C1_sym]\n",
        "C2_manual = solution_manual[C2_sym]\n",
        "\n",
        "# 5. Print the calculated manual values of C1 and C2\n",
        "print(f\"Manually calculated integration constants:\")\n",
        "print(f\"C1 = {C1_manual}\")\n",
        "print(f\"C2 = {C2_manual}\")"
      ],
      "execution_count": 195,
      "outputs": [
        {
          "output_type": "stream",
          "name": "stdout",
          "text": [
            "Manually calculated integration constants:\n",
            "C1 = -6.16666666666667\n",
            "C2 = 0.0\n"
          ]
        }
      ]
    }
  ],
  "metadata": {
    "kernelspec": {
      "display_name": "Python 3.9.13 ('env': venv)",
      "language": "python",
      "name": "python3"
    },
    "language_info": {
      "codemirror_mode": {
        "name": "ipython",
        "version": 3
      },
      "file_extension": ".py",
      "mimetype": "text/x-python",
      "name": "python",
      "nbconvert_exporter": "python",
      "pygments_lexer": "ipython3",
      "version": "3.9.13"
    },
    "orig_nbformat": 4,
    "vscode": {
      "interpreter": {
        "hash": "40df3ce17f7a2be7ee95f14117d7040bea1e206826753b0696b3b0689e40e831"
      }
    },
    "colab": {
      "provenance": []
    }
  },
  "nbformat": 4,
  "nbformat_minor": 0
}